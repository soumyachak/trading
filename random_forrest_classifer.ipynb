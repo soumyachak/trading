{
 "cells": [
  {
   "cell_type": "markdown",
   "metadata": {},
   "source": [
    "##### Random Forrest has been used to predict stock price difference from previous day stock price and technical indicators"
   ]
  },
  {
   "cell_type": "code",
   "execution_count": 1,
   "metadata": {},
   "outputs": [],
   "source": [
    "import numpy as np\n",
    "import pandas as pd\n",
    "import matplotlib.pyplot as plt\n",
    "from sklearn.model_selection import GridSearchCV\n",
    "from sklearn.ensemble import RandomForestClassifier\n",
    "from sklearn.model_selection import train_test_split"
   ]
  },
  {
   "cell_type": "code",
   "execution_count": 2,
   "metadata": {},
   "outputs": [
    {
     "data": {
      "text/html": [
       "<div>\n",
       "<style scoped>\n",
       "    .dataframe tbody tr th:only-of-type {\n",
       "        vertical-align: middle;\n",
       "    }\n",
       "\n",
       "    .dataframe tbody tr th {\n",
       "        vertical-align: top;\n",
       "    }\n",
       "\n",
       "    .dataframe thead th {\n",
       "        text-align: right;\n",
       "    }\n",
       "</style>\n",
       "<table border=\"1\" class=\"dataframe\">\n",
       "  <thead>\n",
       "    <tr style=\"text-align: right;\">\n",
       "      <th></th>\n",
       "      <th>Date</th>\n",
       "      <th>Diff</th>\n",
       "      <th>Close-Open</th>\n",
       "      <th>High-Low</th>\n",
       "      <th>RSI</th>\n",
       "      <th>Close-EMA</th>\n",
       "      <th>MACD-Signal</th>\n",
       "      <th>ADX</th>\n",
       "      <th>CCI</th>\n",
       "      <th>NormATR</th>\n",
       "      <th>Close-BBup</th>\n",
       "      <th>Close-BBmid</th>\n",
       "      <th>Close-BBlow</th>\n",
       "      <th>Diff_t+1</th>\n",
       "    </tr>\n",
       "  </thead>\n",
       "  <tbody>\n",
       "    <tr>\n",
       "      <th>33</th>\n",
       "      <td>2021-06-14</td>\n",
       "      <td>12.50</td>\n",
       "      <td>20.45</td>\n",
       "      <td>216.55</td>\n",
       "      <td>71.283947</td>\n",
       "      <td>220.522137</td>\n",
       "      <td>-11.062793</td>\n",
       "      <td>30.701480</td>\n",
       "      <td>73.768483</td>\n",
       "      <td>1.013346</td>\n",
       "      <td>-58.001894</td>\n",
       "      <td>66.97</td>\n",
       "      <td>191.941894</td>\n",
       "      <td>57.40</td>\n",
       "    </tr>\n",
       "    <tr>\n",
       "      <th>34</th>\n",
       "      <td>2021-06-15</td>\n",
       "      <td>57.40</td>\n",
       "      <td>2.30</td>\n",
       "      <td>59.20</td>\n",
       "      <td>72.757895</td>\n",
       "      <td>240.865852</td>\n",
       "      <td>-10.284952</td>\n",
       "      <td>30.241329</td>\n",
       "      <td>131.489400</td>\n",
       "      <td>0.977958</td>\n",
       "      <td>-60.536263</td>\n",
       "      <td>98.54</td>\n",
       "      <td>257.616263</td>\n",
       "      <td>-101.70</td>\n",
       "    </tr>\n",
       "    <tr>\n",
       "      <th>35</th>\n",
       "      <td>2021-06-16</td>\n",
       "      <td>-101.70</td>\n",
       "      <td>-79.95</td>\n",
       "      <td>138.25</td>\n",
       "      <td>66.267762</td>\n",
       "      <td>120.610405</td>\n",
       "      <td>-18.454491</td>\n",
       "      <td>29.063859</td>\n",
       "      <td>86.183101</td>\n",
       "      <td>0.976589</td>\n",
       "      <td>-118.251497</td>\n",
       "      <td>-29.60</td>\n",
       "      <td>59.051497</td>\n",
       "      <td>-76.15</td>\n",
       "    </tr>\n",
       "    <tr>\n",
       "      <th>36</th>\n",
       "      <td>2021-06-17</td>\n",
       "      <td>-76.15</td>\n",
       "      <td>43.10</td>\n",
       "      <td>152.60</td>\n",
       "      <td>61.821008</td>\n",
       "      <td>38.532351</td>\n",
       "      <td>-30.131212</td>\n",
       "      <td>27.133862</td>\n",
       "      <td>-3.409170</td>\n",
       "      <td>0.980699</td>\n",
       "      <td>-213.266636</td>\n",
       "      <td>-96.48</td>\n",
       "      <td>20.306636</td>\n",
       "      <td>-8.05</td>\n",
       "    </tr>\n",
       "    <tr>\n",
       "      <th>37</th>\n",
       "      <td>2021-06-18</td>\n",
       "      <td>-8.05</td>\n",
       "      <td>-73.15</td>\n",
       "      <td>310.60</td>\n",
       "      <td>61.352321</td>\n",
       "      <td>26.418037</td>\n",
       "      <td>-38.979394</td>\n",
       "      <td>25.979041</td>\n",
       "      <td>-73.215266</td>\n",
       "      <td>1.052577</td>\n",
       "      <td>-223.182481</td>\n",
       "      <td>-81.33</td>\n",
       "      <td>60.522481</td>\n",
       "      <td>63.15</td>\n",
       "    </tr>\n",
       "  </tbody>\n",
       "</table>\n",
       "</div>"
      ],
      "text/plain": [
       "         Date    Diff  Close-Open  High-Low        RSI   Close-EMA  \\\n",
       "33 2021-06-14   12.50       20.45    216.55  71.283947  220.522137   \n",
       "34 2021-06-15   57.40        2.30     59.20  72.757895  240.865852   \n",
       "35 2021-06-16 -101.70      -79.95    138.25  66.267762  120.610405   \n",
       "36 2021-06-17  -76.15       43.10    152.60  61.821008   38.532351   \n",
       "37 2021-06-18   -8.05      -73.15    310.60  61.352321   26.418037   \n",
       "\n",
       "    MACD-Signal        ADX         CCI   NormATR  Close-BBup  Close-BBmid  \\\n",
       "33   -11.062793  30.701480   73.768483  1.013346  -58.001894        66.97   \n",
       "34   -10.284952  30.241329  131.489400  0.977958  -60.536263        98.54   \n",
       "35   -18.454491  29.063859   86.183101  0.976589 -118.251497       -29.60   \n",
       "36   -30.131212  27.133862   -3.409170  0.980699 -213.266636       -96.48   \n",
       "37   -38.979394  25.979041  -73.215266  1.052577 -223.182481       -81.33   \n",
       "\n",
       "    Close-BBlow  Diff_t+1  \n",
       "33   191.941894     57.40  \n",
       "34   257.616263   -101.70  \n",
       "35    59.051497    -76.15  \n",
       "36    20.306636     -8.05  \n",
       "37    60.522481     63.15  "
      ]
     },
     "execution_count": 2,
     "metadata": {},
     "output_type": "execute_result"
    }
   ],
   "source": [
    "df = pd.read_csv('data_model.csv', header=0, parse_dates=[0])\n",
    "df_cleaned = df.dropna()\n",
    "df_cleaned.head(5)"
   ]
  },
  {
   "cell_type": "code",
   "execution_count": 3,
   "metadata": {},
   "outputs": [],
   "source": [
    "# random forrest classifer\n",
    "\n",
    "df_cleaned_rndfclass = df_cleaned.copy()\n",
    "df_cleaned_rndfclass['Y'] = np.where(df_cleaned_rndfclass['Diff_t+1']>=0,1,0)\n",
    "df_cleaned_rndfclass = df_cleaned_rndfclass.drop(['Diff_t+1','Diff'], axis=1)\n",
    "\n",
    "x = df_cleaned_rndfclass.drop(['Date','Y'], axis=1)\n",
    "y = df_cleaned_rndfclass['Y']\n",
    "X_train, X_test, y_train, y_test = train_test_split(x, y, train_size=0.7, random_state=42)"
   ]
  },
  {
   "cell_type": "code",
   "execution_count": 4,
   "metadata": {},
   "outputs": [
    {
     "data": {
      "text/plain": [
       "array([0.51927051, 0.17029996, 0.10107766])"
      ]
     },
     "execution_count": 4,
     "metadata": {},
     "output_type": "execute_result"
    }
   ],
   "source": [
    "from sklearn.preprocessing import StandardScaler\n",
    "from sklearn.decomposition import PCA\n",
    "\n",
    "sc = StandardScaler()\n",
    " \n",
    "X_train_pca = sc.fit_transform(X_train)\n",
    "X_test_pca = sc.transform(X_test)\n",
    "\n",
    "pca = PCA(n_components = 3)\n",
    " \n",
    "X_train_pca_results = pca.fit_transform(X_train_pca)\n",
    "X_test_pca_results = pca.transform(X_test_pca)\n",
    " \n",
    "explained_variance = pca.explained_variance_ratio_\n",
    "explained_variance"
   ]
  },
  {
   "cell_type": "code",
   "execution_count": 5,
   "metadata": {},
   "outputs": [
    {
     "data": {
      "application/vnd.plotly.v1+json": {
       "config": {
        "plotlyServerURL": "https://plot.ly"
       },
       "data": [
        {
         "hovertemplate": "comp1=%{x}<br>comp2=%{y}<br>comp3=%{z}<br>direction=%{marker.color}<extra></extra>",
         "legendgroup": "",
         "marker": {
          "color": [
           0,
           1,
           0,
           1,
           0,
           1,
           0,
           0,
           0,
           1,
           1,
           0,
           0,
           0,
           0,
           0,
           0,
           0,
           0,
           1,
           1,
           0,
           1,
           1,
           1,
           1,
           0,
           0,
           0,
           1,
           1,
           1,
           1,
           0,
           1,
           0,
           0,
           0,
           0,
           1,
           0,
           1,
           1,
           1,
           0,
           1,
           0,
           1,
           0,
           0,
           1,
           0,
           0,
           1,
           0,
           1,
           1,
           0,
           1,
           1,
           1,
           0,
           1,
           1,
           0
          ],
          "coloraxis": "coloraxis",
          "symbol": "circle"
         },
         "mode": "markers",
         "name": "",
         "scene": "scene",
         "showlegend": false,
         "type": "scatter3d",
         "x": [
          -1.3038891722785244,
          -1.3358926874452688,
          -1.963653645461645,
          -0.8065036953998103,
          0.0025415839629837358,
          3.466926166644375,
          -1.1448003877993216,
          -3.6467771226671153,
          0.3238769187374156,
          -2.525436726389755,
          6.3424864869658215,
          1.2784501300895514,
          -3.375675702083435,
          -0.36650192341627646,
          2.5763031448752756,
          0.9282510396044586,
          -3.0301538858909756,
          0.8160967254450566,
          -2.617140597711097,
          1.8603843979551837,
          1.6027440956497525,
          3.3807184514548156,
          2.5103619105398494,
          0.09021685823184582,
          -2.3140494188364067,
          -0.4529752632731216,
          0.6801266756923519,
          0.5956553376628856,
          2.221541911972518,
          -0.9436986449288931,
          -2.7137831523700564,
          -1.393256482600258,
          0.9777960312161899,
          -0.36811696048744236,
          -1.4070447150503433,
          -1.2291625626658234,
          1.0079620166261434,
          2.6875264426877856,
          1.4203585210123986,
          -2.7248124231327964,
          -0.2179116995376568,
          -2.379951113186394,
          -2.180417426422046,
          0.5389062763749249,
          1.0423413171045024,
          6.142807226607242,
          1.147779310739882,
          4.200559081923989,
          3.407544820046607,
          -0.5931485018949576,
          -1.7378807105947802,
          -1.4401873917848573,
          -1.225832162245718,
          3.971965940299844,
          -0.4599257824606274,
          1.035088374625615,
          0.264153429837682,
          1.6068014417734677,
          2.687863832274004,
          -0.14474871803167255,
          -0.025128692896250516,
          -0.9493264304637807,
          -3.293084136259806,
          -1.5574301822375656,
          1.751380181959634
         ],
         "y": [
          -0.8556928204911558,
          0.5477382076743176,
          -1.2406473125552855,
          1.781926500126144,
          2.4125581427244454,
          -0.28793353023193863,
          -0.9082614532235297,
          0.3791959084109396,
          -1.9171717631293363,
          0.46516581899439585,
          0.7139104904458276,
          1.4192170044179107,
          2.4880645108047292,
          -1.130346519986312,
          3.877506908407171,
          0.22981867326565625,
          3.5528216689517134,
          -1.4894554139202376,
          -0.32743442407801326,
          3.881733998288758,
          -0.5712933238985175,
          -0.5135456049793228,
          0.8433026086758131,
          0.10986736621642901,
          0.06739032627110722,
          0.22874494713442872,
          -1.16654230737805,
          -1.410965783109258,
          -0.32348013109352214,
          -0.9940506645241096,
          -0.20797757047699691,
          0.6820518923191383,
          0.7897920737807297,
          -1.049542471307849,
          -1.685165750525482,
          0.6845703786252959,
          1.1716379957989012,
          -1.0429076775811565,
          -0.22813961236510769,
          0.005051555107225178,
          -0.3291612837772787,
          2.3927954522875,
          -1.72423005627661,
          -1.2821817409717016,
          1.0156130383675437,
          -0.97791250446731,
          -0.43670807195518335,
          -0.9623439478829466,
          -0.8564164033462135,
          0.2168359936532378,
          -0.5919793090159651,
          -1.04974327882323,
          -0.7546535626423314,
          -0.4187523089236901,
          -0.9201853633407673,
          -1.4492454083585389,
          3.403635982342136,
          0.803447035922934,
          0.40456010753549076,
          -1.5276962921672794,
          -0.13442045025600685,
          0.7171150636908716,
          0.5566974577861282,
          0.7648353779537169,
          0.14406452711813744
         ],
         "z": [
          -0.8058978368696003,
          -1.459716839836335,
          2.813749322380784,
          0.1652396431993902,
          0.34947542189657077,
          -0.1573735225147913,
          -1.4617061909420639,
          1.9049590259480134,
          1.7776934734324612,
          -0.6656175964707977,
          0.8133351042945929,
          -0.17008211620212157,
          -0.07852334299453083,
          2.768444481616703,
          0.7038270300488477,
          -0.6661496667388993,
          -0.05611513182346237,
          -1.3251213112840987,
          -0.3722280609435582,
          1.1631123253922175,
          0.2986404951775367,
          -0.9761153965520366,
          -0.8319777098088417,
          -0.8442580622039543,
          -0.207435870739661,
          -0.5134313200626457,
          -1.7568992063989004,
          -1.845263183666534,
          -0.7013312729392871,
          -1.3876129282778877,
          1.2286029105945095,
          -0.49794783479323906,
          -0.3971653232985963,
          0.942802434386017,
          1.9153854716718757,
          -0.6869072556172119,
          -0.43810251803475375,
          0.1003124458027576,
          0.40091756014302404,
          1.4830135840458052,
          -0.338649712845943,
          -0.8296291082796062,
          1.6340574728203663,
          1.6465580171153575,
          0.13742054456132893,
          0.5457134984733697,
          -0.4922142123849141,
          1.1189172224205197,
          -0.026469851383933176,
          -0.5005571816230424,
          -1.0690237355575052,
          -1.6407489288979398,
          2.3196302292235185,
          0.7772693001507494,
          -1.9675896844602714,
          -1.8020230527667773,
          1.09124526797822,
          0.7688768691506477,
          -0.10887731079454428,
          2.495426962560023,
          -0.0100597719855706,
          -0.5366346156810439,
          1.2879000060143226,
          -1.1994881856082802,
          -0.6989091125233873
         ]
        }
       ],
       "layout": {
        "coloraxis": {
         "colorbar": {
          "title": {
           "text": "direction"
          }
         },
         "colorscale": [
          [
           0,
           "#0d0887"
          ],
          [
           0.1111111111111111,
           "#46039f"
          ],
          [
           0.2222222222222222,
           "#7201a8"
          ],
          [
           0.3333333333333333,
           "#9c179e"
          ],
          [
           0.4444444444444444,
           "#bd3786"
          ],
          [
           0.5555555555555556,
           "#d8576b"
          ],
          [
           0.6666666666666666,
           "#ed7953"
          ],
          [
           0.7777777777777778,
           "#fb9f3a"
          ],
          [
           0.8888888888888888,
           "#fdca26"
          ],
          [
           1,
           "#f0f921"
          ]
         ]
        },
        "legend": {
         "tracegroupgap": 0
        },
        "margin": {
         "t": 60
        },
        "scene": {
         "domain": {
          "x": [
           0,
           1
          ],
          "y": [
           0,
           1
          ]
         },
         "xaxis": {
          "title": {
           "text": "comp1"
          }
         },
         "yaxis": {
          "title": {
           "text": "comp2"
          }
         },
         "zaxis": {
          "title": {
           "text": "comp3"
          }
         }
        },
        "template": {
         "data": {
          "bar": [
           {
            "error_x": {
             "color": "#2a3f5f"
            },
            "error_y": {
             "color": "#2a3f5f"
            },
            "marker": {
             "line": {
              "color": "#E5ECF6",
              "width": 0.5
             },
             "pattern": {
              "fillmode": "overlay",
              "size": 10,
              "solidity": 0.2
             }
            },
            "type": "bar"
           }
          ],
          "barpolar": [
           {
            "marker": {
             "line": {
              "color": "#E5ECF6",
              "width": 0.5
             },
             "pattern": {
              "fillmode": "overlay",
              "size": 10,
              "solidity": 0.2
             }
            },
            "type": "barpolar"
           }
          ],
          "carpet": [
           {
            "aaxis": {
             "endlinecolor": "#2a3f5f",
             "gridcolor": "white",
             "linecolor": "white",
             "minorgridcolor": "white",
             "startlinecolor": "#2a3f5f"
            },
            "baxis": {
             "endlinecolor": "#2a3f5f",
             "gridcolor": "white",
             "linecolor": "white",
             "minorgridcolor": "white",
             "startlinecolor": "#2a3f5f"
            },
            "type": "carpet"
           }
          ],
          "choropleth": [
           {
            "colorbar": {
             "outlinewidth": 0,
             "ticks": ""
            },
            "type": "choropleth"
           }
          ],
          "contour": [
           {
            "colorbar": {
             "outlinewidth": 0,
             "ticks": ""
            },
            "colorscale": [
             [
              0,
              "#0d0887"
             ],
             [
              0.1111111111111111,
              "#46039f"
             ],
             [
              0.2222222222222222,
              "#7201a8"
             ],
             [
              0.3333333333333333,
              "#9c179e"
             ],
             [
              0.4444444444444444,
              "#bd3786"
             ],
             [
              0.5555555555555556,
              "#d8576b"
             ],
             [
              0.6666666666666666,
              "#ed7953"
             ],
             [
              0.7777777777777778,
              "#fb9f3a"
             ],
             [
              0.8888888888888888,
              "#fdca26"
             ],
             [
              1,
              "#f0f921"
             ]
            ],
            "type": "contour"
           }
          ],
          "contourcarpet": [
           {
            "colorbar": {
             "outlinewidth": 0,
             "ticks": ""
            },
            "type": "contourcarpet"
           }
          ],
          "heatmap": [
           {
            "colorbar": {
             "outlinewidth": 0,
             "ticks": ""
            },
            "colorscale": [
             [
              0,
              "#0d0887"
             ],
             [
              0.1111111111111111,
              "#46039f"
             ],
             [
              0.2222222222222222,
              "#7201a8"
             ],
             [
              0.3333333333333333,
              "#9c179e"
             ],
             [
              0.4444444444444444,
              "#bd3786"
             ],
             [
              0.5555555555555556,
              "#d8576b"
             ],
             [
              0.6666666666666666,
              "#ed7953"
             ],
             [
              0.7777777777777778,
              "#fb9f3a"
             ],
             [
              0.8888888888888888,
              "#fdca26"
             ],
             [
              1,
              "#f0f921"
             ]
            ],
            "type": "heatmap"
           }
          ],
          "heatmapgl": [
           {
            "colorbar": {
             "outlinewidth": 0,
             "ticks": ""
            },
            "colorscale": [
             [
              0,
              "#0d0887"
             ],
             [
              0.1111111111111111,
              "#46039f"
             ],
             [
              0.2222222222222222,
              "#7201a8"
             ],
             [
              0.3333333333333333,
              "#9c179e"
             ],
             [
              0.4444444444444444,
              "#bd3786"
             ],
             [
              0.5555555555555556,
              "#d8576b"
             ],
             [
              0.6666666666666666,
              "#ed7953"
             ],
             [
              0.7777777777777778,
              "#fb9f3a"
             ],
             [
              0.8888888888888888,
              "#fdca26"
             ],
             [
              1,
              "#f0f921"
             ]
            ],
            "type": "heatmapgl"
           }
          ],
          "histogram": [
           {
            "marker": {
             "pattern": {
              "fillmode": "overlay",
              "size": 10,
              "solidity": 0.2
             }
            },
            "type": "histogram"
           }
          ],
          "histogram2d": [
           {
            "colorbar": {
             "outlinewidth": 0,
             "ticks": ""
            },
            "colorscale": [
             [
              0,
              "#0d0887"
             ],
             [
              0.1111111111111111,
              "#46039f"
             ],
             [
              0.2222222222222222,
              "#7201a8"
             ],
             [
              0.3333333333333333,
              "#9c179e"
             ],
             [
              0.4444444444444444,
              "#bd3786"
             ],
             [
              0.5555555555555556,
              "#d8576b"
             ],
             [
              0.6666666666666666,
              "#ed7953"
             ],
             [
              0.7777777777777778,
              "#fb9f3a"
             ],
             [
              0.8888888888888888,
              "#fdca26"
             ],
             [
              1,
              "#f0f921"
             ]
            ],
            "type": "histogram2d"
           }
          ],
          "histogram2dcontour": [
           {
            "colorbar": {
             "outlinewidth": 0,
             "ticks": ""
            },
            "colorscale": [
             [
              0,
              "#0d0887"
             ],
             [
              0.1111111111111111,
              "#46039f"
             ],
             [
              0.2222222222222222,
              "#7201a8"
             ],
             [
              0.3333333333333333,
              "#9c179e"
             ],
             [
              0.4444444444444444,
              "#bd3786"
             ],
             [
              0.5555555555555556,
              "#d8576b"
             ],
             [
              0.6666666666666666,
              "#ed7953"
             ],
             [
              0.7777777777777778,
              "#fb9f3a"
             ],
             [
              0.8888888888888888,
              "#fdca26"
             ],
             [
              1,
              "#f0f921"
             ]
            ],
            "type": "histogram2dcontour"
           }
          ],
          "mesh3d": [
           {
            "colorbar": {
             "outlinewidth": 0,
             "ticks": ""
            },
            "type": "mesh3d"
           }
          ],
          "parcoords": [
           {
            "line": {
             "colorbar": {
              "outlinewidth": 0,
              "ticks": ""
             }
            },
            "type": "parcoords"
           }
          ],
          "pie": [
           {
            "automargin": true,
            "type": "pie"
           }
          ],
          "scatter": [
           {
            "marker": {
             "colorbar": {
              "outlinewidth": 0,
              "ticks": ""
             }
            },
            "type": "scatter"
           }
          ],
          "scatter3d": [
           {
            "line": {
             "colorbar": {
              "outlinewidth": 0,
              "ticks": ""
             }
            },
            "marker": {
             "colorbar": {
              "outlinewidth": 0,
              "ticks": ""
             }
            },
            "type": "scatter3d"
           }
          ],
          "scattercarpet": [
           {
            "marker": {
             "colorbar": {
              "outlinewidth": 0,
              "ticks": ""
             }
            },
            "type": "scattercarpet"
           }
          ],
          "scattergeo": [
           {
            "marker": {
             "colorbar": {
              "outlinewidth": 0,
              "ticks": ""
             }
            },
            "type": "scattergeo"
           }
          ],
          "scattergl": [
           {
            "marker": {
             "colorbar": {
              "outlinewidth": 0,
              "ticks": ""
             }
            },
            "type": "scattergl"
           }
          ],
          "scattermapbox": [
           {
            "marker": {
             "colorbar": {
              "outlinewidth": 0,
              "ticks": ""
             }
            },
            "type": "scattermapbox"
           }
          ],
          "scatterpolar": [
           {
            "marker": {
             "colorbar": {
              "outlinewidth": 0,
              "ticks": ""
             }
            },
            "type": "scatterpolar"
           }
          ],
          "scatterpolargl": [
           {
            "marker": {
             "colorbar": {
              "outlinewidth": 0,
              "ticks": ""
             }
            },
            "type": "scatterpolargl"
           }
          ],
          "scatterternary": [
           {
            "marker": {
             "colorbar": {
              "outlinewidth": 0,
              "ticks": ""
             }
            },
            "type": "scatterternary"
           }
          ],
          "surface": [
           {
            "colorbar": {
             "outlinewidth": 0,
             "ticks": ""
            },
            "colorscale": [
             [
              0,
              "#0d0887"
             ],
             [
              0.1111111111111111,
              "#46039f"
             ],
             [
              0.2222222222222222,
              "#7201a8"
             ],
             [
              0.3333333333333333,
              "#9c179e"
             ],
             [
              0.4444444444444444,
              "#bd3786"
             ],
             [
              0.5555555555555556,
              "#d8576b"
             ],
             [
              0.6666666666666666,
              "#ed7953"
             ],
             [
              0.7777777777777778,
              "#fb9f3a"
             ],
             [
              0.8888888888888888,
              "#fdca26"
             ],
             [
              1,
              "#f0f921"
             ]
            ],
            "type": "surface"
           }
          ],
          "table": [
           {
            "cells": {
             "fill": {
              "color": "#EBF0F8"
             },
             "line": {
              "color": "white"
             }
            },
            "header": {
             "fill": {
              "color": "#C8D4E3"
             },
             "line": {
              "color": "white"
             }
            },
            "type": "table"
           }
          ]
         },
         "layout": {
          "annotationdefaults": {
           "arrowcolor": "#2a3f5f",
           "arrowhead": 0,
           "arrowwidth": 1
          },
          "autotypenumbers": "strict",
          "coloraxis": {
           "colorbar": {
            "outlinewidth": 0,
            "ticks": ""
           }
          },
          "colorscale": {
           "diverging": [
            [
             0,
             "#8e0152"
            ],
            [
             0.1,
             "#c51b7d"
            ],
            [
             0.2,
             "#de77ae"
            ],
            [
             0.3,
             "#f1b6da"
            ],
            [
             0.4,
             "#fde0ef"
            ],
            [
             0.5,
             "#f7f7f7"
            ],
            [
             0.6,
             "#e6f5d0"
            ],
            [
             0.7,
             "#b8e186"
            ],
            [
             0.8,
             "#7fbc41"
            ],
            [
             0.9,
             "#4d9221"
            ],
            [
             1,
             "#276419"
            ]
           ],
           "sequential": [
            [
             0,
             "#0d0887"
            ],
            [
             0.1111111111111111,
             "#46039f"
            ],
            [
             0.2222222222222222,
             "#7201a8"
            ],
            [
             0.3333333333333333,
             "#9c179e"
            ],
            [
             0.4444444444444444,
             "#bd3786"
            ],
            [
             0.5555555555555556,
             "#d8576b"
            ],
            [
             0.6666666666666666,
             "#ed7953"
            ],
            [
             0.7777777777777778,
             "#fb9f3a"
            ],
            [
             0.8888888888888888,
             "#fdca26"
            ],
            [
             1,
             "#f0f921"
            ]
           ],
           "sequentialminus": [
            [
             0,
             "#0d0887"
            ],
            [
             0.1111111111111111,
             "#46039f"
            ],
            [
             0.2222222222222222,
             "#7201a8"
            ],
            [
             0.3333333333333333,
             "#9c179e"
            ],
            [
             0.4444444444444444,
             "#bd3786"
            ],
            [
             0.5555555555555556,
             "#d8576b"
            ],
            [
             0.6666666666666666,
             "#ed7953"
            ],
            [
             0.7777777777777778,
             "#fb9f3a"
            ],
            [
             0.8888888888888888,
             "#fdca26"
            ],
            [
             1,
             "#f0f921"
            ]
           ]
          },
          "colorway": [
           "#636efa",
           "#EF553B",
           "#00cc96",
           "#ab63fa",
           "#FFA15A",
           "#19d3f3",
           "#FF6692",
           "#B6E880",
           "#FF97FF",
           "#FECB52"
          ],
          "font": {
           "color": "#2a3f5f"
          },
          "geo": {
           "bgcolor": "white",
           "lakecolor": "white",
           "landcolor": "#E5ECF6",
           "showlakes": true,
           "showland": true,
           "subunitcolor": "white"
          },
          "hoverlabel": {
           "align": "left"
          },
          "hovermode": "closest",
          "mapbox": {
           "style": "light"
          },
          "paper_bgcolor": "white",
          "plot_bgcolor": "#E5ECF6",
          "polar": {
           "angularaxis": {
            "gridcolor": "white",
            "linecolor": "white",
            "ticks": ""
           },
           "bgcolor": "#E5ECF6",
           "radialaxis": {
            "gridcolor": "white",
            "linecolor": "white",
            "ticks": ""
           }
          },
          "scene": {
           "xaxis": {
            "backgroundcolor": "#E5ECF6",
            "gridcolor": "white",
            "gridwidth": 2,
            "linecolor": "white",
            "showbackground": true,
            "ticks": "",
            "zerolinecolor": "white"
           },
           "yaxis": {
            "backgroundcolor": "#E5ECF6",
            "gridcolor": "white",
            "gridwidth": 2,
            "linecolor": "white",
            "showbackground": true,
            "ticks": "",
            "zerolinecolor": "white"
           },
           "zaxis": {
            "backgroundcolor": "#E5ECF6",
            "gridcolor": "white",
            "gridwidth": 2,
            "linecolor": "white",
            "showbackground": true,
            "ticks": "",
            "zerolinecolor": "white"
           }
          },
          "shapedefaults": {
           "line": {
            "color": "#2a3f5f"
           }
          },
          "ternary": {
           "aaxis": {
            "gridcolor": "white",
            "linecolor": "white",
            "ticks": ""
           },
           "baxis": {
            "gridcolor": "white",
            "linecolor": "white",
            "ticks": ""
           },
           "bgcolor": "#E5ECF6",
           "caxis": {
            "gridcolor": "white",
            "linecolor": "white",
            "ticks": ""
           }
          },
          "title": {
           "x": 0.05
          },
          "xaxis": {
           "automargin": true,
           "gridcolor": "white",
           "linecolor": "white",
           "ticks": "",
           "title": {
            "standoff": 15
           },
           "zerolinecolor": "white",
           "zerolinewidth": 2
          },
          "yaxis": {
           "automargin": true,
           "gridcolor": "white",
           "linecolor": "white",
           "ticks": "",
           "title": {
            "standoff": 15
           },
           "zerolinecolor": "white",
           "zerolinewidth": 2
          }
         }
        }
       }
      }
     },
     "metadata": {},
     "output_type": "display_data"
    }
   ],
   "source": [
    "import plotly.express as px\n",
    "\n",
    "data_pca_plt = np.hstack((X_test_pca_results,y_test.to_numpy().reshape(-1,1)))\n",
    "column_values = ['comp1', 'comp2', 'comp3','direction']\n",
    "df_pca_plot = pd.DataFrame(data = data_pca_plt, columns = column_values)\n",
    "\n",
    "df = px.data.iris()\n",
    "fig = px.scatter_3d(df_pca_plot, x='comp1', y='comp2', z='comp3', color='direction')\n",
    "# fig = px.scatter(df_pca_plot, x='comp1', y='comp2', color='direction')\n",
    "fig.show()"
   ]
  },
  {
   "cell_type": "code",
   "execution_count": 6,
   "metadata": {},
   "outputs": [
    {
     "name": "stdout",
     "output_type": "stream",
     "text": [
      "Fitting 10 folds for each of 540 candidates, totalling 5400 fits\n",
      "0.5833333333333333\n",
      "CPU times: total: 33.2 s\n",
      "Wall time: 5min 7s\n"
     ]
    },
    {
     "data": {
      "text/plain": [
       "RandomForestClassifier(max_depth=5, min_samples_leaf=10, n_estimators=25,\n",
       "                       n_jobs=-1, random_state=42)"
      ]
     },
     "execution_count": 6,
     "metadata": {},
     "output_type": "execute_result"
    }
   ],
   "source": [
    "%%time\n",
    "\n",
    "rf = RandomForestClassifier(random_state=42, n_jobs=-1)\n",
    "params = {\n",
    "    'max_depth': [2,3,5,10,20],\n",
    "    'min_samples_leaf': [5,10,20,50,100,200],\n",
    "    'min_samples_split': [2, 5, 10],\n",
    "    'n_estimators': [10,25,30,50,100,200]\n",
    "}\n",
    "\n",
    "grid_search = GridSearchCV(estimator=rf,\n",
    "                           param_grid=params,\n",
    "                           cv = 10,\n",
    "                           n_jobs=-1, verbose=1, scoring=\"accuracy\")\n",
    "\n",
    "grid_search.fit(X_train, y_train)\n",
    "\n",
    "print(grid_search.best_score_)\n",
    "rf_best = grid_search.best_estimator_\n",
    "rf_best"
   ]
  },
  {
   "cell_type": "code",
   "execution_count": 7,
   "metadata": {},
   "outputs": [
    {
     "data": {
      "text/plain": [
       "{'max_depth': 5,\n",
       " 'min_samples_leaf': 10,\n",
       " 'min_samples_split': 2,\n",
       " 'n_estimators': 25}"
      ]
     },
     "execution_count": 7,
     "metadata": {},
     "output_type": "execute_result"
    }
   ],
   "source": [
    "grid_search.best_params_"
   ]
  },
  {
   "cell_type": "code",
   "execution_count": 8,
   "metadata": {},
   "outputs": [
    {
     "data": {
      "text/html": [
       "<div>\n",
       "<style scoped>\n",
       "    .dataframe tbody tr th:only-of-type {\n",
       "        vertical-align: middle;\n",
       "    }\n",
       "\n",
       "    .dataframe tbody tr th {\n",
       "        vertical-align: top;\n",
       "    }\n",
       "\n",
       "    .dataframe thead th {\n",
       "        text-align: right;\n",
       "    }\n",
       "</style>\n",
       "<table border=\"1\" class=\"dataframe\">\n",
       "  <thead>\n",
       "    <tr style=\"text-align: right;\">\n",
       "      <th></th>\n",
       "      <th>Varname</th>\n",
       "      <th>Imp</th>\n",
       "    </tr>\n",
       "  </thead>\n",
       "  <tbody>\n",
       "    <tr>\n",
       "      <th>8</th>\n",
       "      <td>Close-BBup</td>\n",
       "      <td>0.249912</td>\n",
       "    </tr>\n",
       "    <tr>\n",
       "      <th>7</th>\n",
       "      <td>NormATR</td>\n",
       "      <td>0.150961</td>\n",
       "    </tr>\n",
       "    <tr>\n",
       "      <th>3</th>\n",
       "      <td>Close-EMA</td>\n",
       "      <td>0.114095</td>\n",
       "    </tr>\n",
       "    <tr>\n",
       "      <th>0</th>\n",
       "      <td>Close-Open</td>\n",
       "      <td>0.088683</td>\n",
       "    </tr>\n",
       "    <tr>\n",
       "      <th>6</th>\n",
       "      <td>CCI</td>\n",
       "      <td>0.077935</td>\n",
       "    </tr>\n",
       "    <tr>\n",
       "      <th>10</th>\n",
       "      <td>Close-BBlow</td>\n",
       "      <td>0.069826</td>\n",
       "    </tr>\n",
       "    <tr>\n",
       "      <th>5</th>\n",
       "      <td>ADX</td>\n",
       "      <td>0.067922</td>\n",
       "    </tr>\n",
       "    <tr>\n",
       "      <th>2</th>\n",
       "      <td>RSI</td>\n",
       "      <td>0.054705</td>\n",
       "    </tr>\n",
       "    <tr>\n",
       "      <th>4</th>\n",
       "      <td>MACD-Signal</td>\n",
       "      <td>0.047963</td>\n",
       "    </tr>\n",
       "    <tr>\n",
       "      <th>1</th>\n",
       "      <td>High-Low</td>\n",
       "      <td>0.043246</td>\n",
       "    </tr>\n",
       "    <tr>\n",
       "      <th>9</th>\n",
       "      <td>Close-BBmid</td>\n",
       "      <td>0.034752</td>\n",
       "    </tr>\n",
       "  </tbody>\n",
       "</table>\n",
       "</div>"
      ],
      "text/plain": [
       "        Varname       Imp\n",
       "8    Close-BBup  0.249912\n",
       "7       NormATR  0.150961\n",
       "3     Close-EMA  0.114095\n",
       "0    Close-Open  0.088683\n",
       "6           CCI  0.077935\n",
       "10  Close-BBlow  0.069826\n",
       "5           ADX  0.067922\n",
       "2           RSI  0.054705\n",
       "4   MACD-Signal  0.047963\n",
       "1      High-Low  0.043246\n",
       "9   Close-BBmid  0.034752"
      ]
     },
     "execution_count": 8,
     "metadata": {},
     "output_type": "execute_result"
    }
   ],
   "source": [
    "imp_df = pd.DataFrame({\n",
    "    \"Varname\": X_train.columns,\n",
    "    \"Imp\": rf_best.feature_importances_\n",
    "})\n",
    "imp_df.sort_values(by=\"Imp\", ascending=False)"
   ]
  },
  {
   "cell_type": "code",
   "execution_count": 9,
   "metadata": {},
   "outputs": [
    {
     "data": {
      "text/plain": [
       "0.5570469798657718"
      ]
     },
     "execution_count": 9,
     "metadata": {},
     "output_type": "execute_result"
    }
   ],
   "source": [
    "# selecting best random forrest hyperparameters\n",
    "classifier_rf = RandomForestClassifier(max_depth=5, min_samples_leaf=10, min_samples_split=2, n_estimators=25,\n",
    "                       n_jobs=-1, random_state=42,oob_score=True)\n",
    "classifier_rf.fit(X_train, y_train)\n",
    "classifier_rf.oob_score_"
   ]
  },
  {
   "cell_type": "code",
   "execution_count": 10,
   "metadata": {},
   "outputs": [
    {
     "data": {
      "image/png": "[encoded data removed]",
      "text/plain": [
       "<Figure size 1440x504 with 1 Axes>"
      ]
     },
     "metadata": {
      "needs_background": "light"
     },
     "output_type": "display_data"
    },
    {
     "name": "stdout",
     "output_type": "stream",
     "text": [
      "Directional error percentage: 60.0\n"
     ]
    }
   ],
   "source": [
    "# Actual vs Fitted\n",
    "predictions = classifier_rf.predict(X_test)\n",
    "y_test = y_test.to_numpy()\n",
    "plt.figure(figsize=(20,7))\n",
    "plt.plot(y_test)\n",
    "plt.plot(predictions)\n",
    "plt.legend([\"Actual\", \"Predicted\"], loc =\"lower right\")\n",
    "plt.show()\n",
    "\n",
    "z=0\n",
    "for i in range(y_test.shape[0]):\n",
    "    if y_test[i]==predictions[i]:\n",
    "        z=z+1\n",
    "\n",
    "print(\"Directional error percentage:\", z/y_test.shape[0]*100)"
   ]
  }
 ],
 "metadata": {
  "interpreter": {
   "hash": "ad2bdc8ecc057115af97d19610ffacc2b4e99fae6737bb82f5d7fb13d2f2c186"
  },
  "kernelspec": {
   "display_name": "Python 3.9.12 ('base')",
   "language": "python",
   "name": "python3"
  },
  "language_info": {
   "codemirror_mode": {
    "name": "ipython",
    "version": 3
   },
   "file_extension": ".py",
   "mimetype": "text/x-python",
   "name": "python",
   "nbconvert_exporter": "python",
   "pygments_lexer": "ipython3",
   "version": "3.9.12"
  },
  "orig_nbformat": 4
 },
 "nbformat": 4,
 "nbformat_minor": 2
}
