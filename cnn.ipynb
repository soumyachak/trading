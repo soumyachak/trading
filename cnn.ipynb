{
 "cells": [
  {
   "cell_type": "markdown",
   "metadata": {},
   "source": [
    "##### CNN is used to match stock price difference from previous day trading data along with features created by technical indicators"
   ]
  },
  {
   "cell_type": "code",
   "execution_count": 1,
   "metadata": {},
   "outputs": [],
   "source": [
    "import numpy as np\n",
    "import pandas as pd\n",
    "from matplotlib import pyplot as plt\n",
    "from sklearn.model_selection import train_test_split\n",
    "from sklearn.preprocessing import MinMaxScaler\n",
    "import tensorflow as tf\n",
    "from keras.models import Sequential\n",
    "from keras.layers import Dense,Conv2D,MaxPooling2D,Flatten\n",
    "from numpy import expand_dims"
   ]
  },
  {
   "cell_type": "code",
   "execution_count": 2,
   "metadata": {},
   "outputs": [
    {
     "data": {
      "text/html": [
       "<div>\n",
       "<style scoped>\n",
       "    .dataframe tbody tr th:only-of-type {\n",
       "        vertical-align: middle;\n",
       "    }\n",
       "\n",
       "    .dataframe tbody tr th {\n",
       "        vertical-align: top;\n",
       "    }\n",
       "\n",
       "    .dataframe thead th {\n",
       "        text-align: right;\n",
       "    }\n",
       "</style>\n",
       "<table border=\"1\" class=\"dataframe\">\n",
       "  <thead>\n",
       "    <tr style=\"text-align: right;\">\n",
       "      <th></th>\n",
       "      <th>Date</th>\n",
       "      <th>Diff</th>\n",
       "      <th>Close-Open</th>\n",
       "      <th>High-Low</th>\n",
       "      <th>RSI</th>\n",
       "      <th>Close-EMA</th>\n",
       "      <th>MACD-Signal</th>\n",
       "      <th>ADX</th>\n",
       "      <th>CCI</th>\n",
       "      <th>NormATR</th>\n",
       "      <th>Close-BBup</th>\n",
       "      <th>Close-BBmid</th>\n",
       "      <th>Close-BBlow</th>\n",
       "      <th>Diff_t+1</th>\n",
       "    </tr>\n",
       "  </thead>\n",
       "  <tbody>\n",
       "    <tr>\n",
       "      <th>33</th>\n",
       "      <td>2021-06-14</td>\n",
       "      <td>12.50</td>\n",
       "      <td>20.45</td>\n",
       "      <td>216.55</td>\n",
       "      <td>71.283947</td>\n",
       "      <td>220.522136</td>\n",
       "      <td>-11.062793</td>\n",
       "      <td>30.701480</td>\n",
       "      <td>73.768483</td>\n",
       "      <td>1.013346</td>\n",
       "      <td>-58.001894</td>\n",
       "      <td>66.97</td>\n",
       "      <td>191.941894</td>\n",
       "      <td>57.40</td>\n",
       "    </tr>\n",
       "    <tr>\n",
       "      <th>34</th>\n",
       "      <td>2021-06-15</td>\n",
       "      <td>57.40</td>\n",
       "      <td>2.30</td>\n",
       "      <td>59.20</td>\n",
       "      <td>72.757895</td>\n",
       "      <td>240.865852</td>\n",
       "      <td>-10.284952</td>\n",
       "      <td>30.241329</td>\n",
       "      <td>131.489399</td>\n",
       "      <td>0.977958</td>\n",
       "      <td>-60.536263</td>\n",
       "      <td>98.54</td>\n",
       "      <td>257.616264</td>\n",
       "      <td>-101.70</td>\n",
       "    </tr>\n",
       "    <tr>\n",
       "      <th>35</th>\n",
       "      <td>2021-06-16</td>\n",
       "      <td>-101.70</td>\n",
       "      <td>-79.95</td>\n",
       "      <td>138.25</td>\n",
       "      <td>66.267762</td>\n",
       "      <td>120.610405</td>\n",
       "      <td>-18.454491</td>\n",
       "      <td>29.063859</td>\n",
       "      <td>86.183101</td>\n",
       "      <td>0.976589</td>\n",
       "      <td>-118.251497</td>\n",
       "      <td>-29.60</td>\n",
       "      <td>59.051497</td>\n",
       "      <td>-76.15</td>\n",
       "    </tr>\n",
       "    <tr>\n",
       "      <th>36</th>\n",
       "      <td>2021-06-17</td>\n",
       "      <td>-76.15</td>\n",
       "      <td>43.10</td>\n",
       "      <td>152.60</td>\n",
       "      <td>61.821008</td>\n",
       "      <td>38.532351</td>\n",
       "      <td>-30.131212</td>\n",
       "      <td>27.133862</td>\n",
       "      <td>-3.409170</td>\n",
       "      <td>0.980699</td>\n",
       "      <td>-213.266636</td>\n",
       "      <td>-96.48</td>\n",
       "      <td>20.306636</td>\n",
       "      <td>-8.05</td>\n",
       "    </tr>\n",
       "    <tr>\n",
       "      <th>37</th>\n",
       "      <td>2021-06-18</td>\n",
       "      <td>-8.05</td>\n",
       "      <td>-73.15</td>\n",
       "      <td>310.60</td>\n",
       "      <td>61.352321</td>\n",
       "      <td>26.418037</td>\n",
       "      <td>-38.979394</td>\n",
       "      <td>25.979041</td>\n",
       "      <td>-73.215266</td>\n",
       "      <td>1.052577</td>\n",
       "      <td>-223.182481</td>\n",
       "      <td>-81.33</td>\n",
       "      <td>60.522481</td>\n",
       "      <td>63.15</td>\n",
       "    </tr>\n",
       "  </tbody>\n",
       "</table>\n",
       "</div>"
      ],
      "text/plain": [
       "         Date    Diff  Close-Open  High-Low        RSI   Close-EMA  \\\n",
       "33 2021-06-14   12.50       20.45    216.55  71.283947  220.522136   \n",
       "34 2021-06-15   57.40        2.30     59.20  72.757895  240.865852   \n",
       "35 2021-06-16 -101.70      -79.95    138.25  66.267762  120.610405   \n",
       "36 2021-06-17  -76.15       43.10    152.60  61.821008   38.532351   \n",
       "37 2021-06-18   -8.05      -73.15    310.60  61.352321   26.418037   \n",
       "\n",
       "    MACD-Signal        ADX         CCI   NormATR  Close-BBup  Close-BBmid  \\\n",
       "33   -11.062793  30.701480   73.768483  1.013346  -58.001894        66.97   \n",
       "34   -10.284952  30.241329  131.489399  0.977958  -60.536263        98.54   \n",
       "35   -18.454491  29.063859   86.183101  0.976589 -118.251497       -29.60   \n",
       "36   -30.131212  27.133862   -3.409170  0.980699 -213.266636       -96.48   \n",
       "37   -38.979394  25.979041  -73.215266  1.052577 -223.182481       -81.33   \n",
       "\n",
       "    Close-BBlow  Diff_t+1  \n",
       "33   191.941894     57.40  \n",
       "34   257.616264   -101.70  \n",
       "35    59.051497    -76.15  \n",
       "36    20.306636     -8.05  \n",
       "37    60.522481     63.15  "
      ]
     },
     "execution_count": 2,
     "metadata": {},
     "output_type": "execute_result"
    }
   ],
   "source": [
    "df = pd.read_csv('data_model.csv', header=0, parse_dates=[0])\n",
    "df_cleaned = df.dropna()\n",
    "df_cleaned.head(5)"
   ]
  },
  {
   "cell_type": "code",
   "execution_count": 3,
   "metadata": {},
   "outputs": [],
   "source": [
    "sc = MinMaxScaler()\n",
    "\n",
    "X_scale_dataset = sc.fit_transform(df_cleaned.iloc[:,1:-1])\n",
    "# X_scale_dataset = df_cleaned.iloc[:,1:-1].to_numpy()\n",
    "y_dataset = df_cleaned.iloc[:,-1].to_numpy()"
   ]
  },
  {
   "cell_type": "code",
   "execution_count": 4,
   "metadata": {},
   "outputs": [],
   "source": [
    "X_train, X_test, y_train, y_test = train_test_split(X_scale_dataset, y_dataset, train_size=0.7, random_state=42, shuffle=False)"
   ]
  },
  {
   "cell_type": "code",
   "execution_count": 5,
   "metadata": {},
   "outputs": [],
   "source": [
    "X_train_arr = []\n",
    "for i in range(X_train.shape[0]-11):\n",
    "    arr=[]\n",
    "    for j in range(12):\n",
    "        arr.append(X_train[i+j,:])\n",
    "    X_train_arr.append(np.array(arr))\n",
    "    \n",
    "X_train_arr = np.array(X_train_arr)"
   ]
  },
  {
   "cell_type": "code",
   "execution_count": 6,
   "metadata": {},
   "outputs": [],
   "source": [
    "y_train_arr = []\n",
    "for i in range(11, y_train.shape[0]):\n",
    "    if y_train[i]>0:\n",
    "        y_train_arr.append(np.array([1.0,0.0]))\n",
    "    else:\n",
    "        y_train_arr.append(np.array([0.0,1.0]))\n",
    "        \n",
    "y_train_arr = np.array(y_train_arr)"
   ]
  },
  {
   "cell_type": "code",
   "execution_count": 7,
   "metadata": {},
   "outputs": [],
   "source": [
    "X_test_arr = []\n",
    "for i in range(X_test.shape[0]-11):\n",
    "    arr=[]\n",
    "    for j in range(12):\n",
    "        arr.append(X_test[i+j,:])\n",
    "    X_test_arr.append(np.array(arr))\n",
    "    \n",
    "X_test_arr = np.array(X_test_arr)"
   ]
  },
  {
   "cell_type": "code",
   "execution_count": 8,
   "metadata": {},
   "outputs": [],
   "source": [
    "y_test_arr = []\n",
    "for i in range(11, y_test.shape[0]):\n",
    "    if y_test[i]>0:\n",
    "        y_test_arr.append(np.array([1.0,0.0]))\n",
    "    else:\n",
    "        y_test_arr.append(np.array([0.0,1.0]))\n",
    "        \n",
    "y_test_arr = np.array(y_test_arr)"
   ]
  },
  {
   "cell_type": "code",
   "execution_count": 9,
   "metadata": {},
   "outputs": [
    {
     "name": "stdout",
     "output_type": "stream",
     "text": [
      "(149, 12)\n",
      "(149,)\n",
      "(65, 12)\n",
      "(65,)\n",
      "(138, 12, 12)\n",
      "(138, 2)\n",
      "(54, 12, 12)\n",
      "(54, 2)\n"
     ]
    }
   ],
   "source": [
    "print(X_train.shape)\n",
    "print(y_train.shape)\n",
    "print(X_test.shape)\n",
    "print(y_test.shape)\n",
    "print(X_train_arr.shape)\n",
    "print(y_train_arr.shape)\n",
    "print(X_test_arr.shape)\n",
    "print(y_test_arr.shape)"
   ]
  },
  {
   "cell_type": "code",
   "execution_count": 10,
   "metadata": {},
   "outputs": [
    {
     "name": "stdout",
     "output_type": "stream",
     "text": [
      "Model: \"sequential\"\n",
      "_________________________________________________________________\n",
      " Layer (type)                Output Shape              Param #   \n",
      "=================================================================\n",
      " conv2d (Conv2D)             (None, 12, 12, 32)        320       \n",
      "                                                                 \n",
      " max_pooling2d (MaxPooling2D  (None, 6, 6, 32)         0         \n",
      " )                                                               \n",
      "                                                                 \n",
      " conv2d_1 (Conv2D)           (None, 4, 4, 64)          18496     \n",
      "                                                                 \n",
      " max_pooling2d_1 (MaxPooling  (None, 2, 2, 64)         0         \n",
      " 2D)                                                             \n",
      "                                                                 \n",
      " flatten (Flatten)           (None, 256)               0         \n",
      "                                                                 \n",
      " dense (Dense)               (None, 128)               32896     \n",
      "                                                                 \n",
      " dense_1 (Dense)             (None, 2)                 258       \n",
      "                                                                 \n",
      "=================================================================\n",
      "Total params: 51,970\n",
      "Trainable params: 51,970\n",
      "Non-trainable params: 0\n",
      "_________________________________________________________________\n"
     ]
    }
   ],
   "source": [
    "model = Sequential()\n",
    "model.add(Conv2D(32, (3, 3), activation='relu', input_shape=(12, 12, 1), padding='same'))\n",
    "model.add(MaxPooling2D((2, 2)))\n",
    "model.add(Conv2D(64, (3, 3), activation='relu'))\n",
    "model.add(MaxPooling2D((2, 2)))\n",
    "model.add(Flatten())\n",
    "model.add(Dense(128, activation='relu'))\n",
    "model.add(Dense(2, activation='softmax'))\n",
    "\n",
    "model.summary()"
   ]
  },
  {
   "cell_type": "code",
   "execution_count": 11,
   "metadata": {},
   "outputs": [
    {
     "name": "stdout",
     "output_type": "stream",
     "text": [
      "Epoch 1/100\n"
     ]
    },
    {
     "name": "stderr",
     "output_type": "stream",
     "text": [
      "c:\\ProgramData\\Anaconda3\\lib\\site-packages\\tensorflow\\python\\util\\dispatch.py:1082: UserWarning: \"`categorical_crossentropy` received `from_logits=True`, but the `output` argument was produced by a sigmoid or softmax activation and thus does not represent logits. Was this intended?\"\n",
      "  return dispatch_target(*args, **kwargs)\n"
     ]
    },
    {
     "name": "stdout",
     "output_type": "stream",
     "text": [
      "5/5 [==============================] - 1s 4ms/step - loss: 0.6919 - accuracy: 0.5580\n",
      "Epoch 2/100\n",
      "5/5 [==============================] - 0s 4ms/step - loss: 0.6875 - accuracy: 0.5725\n",
      "Epoch 3/100\n",
      "5/5 [==============================] - 0s 5ms/step - loss: 0.6787 - accuracy: 0.5725\n",
      "Epoch 4/100\n",
      "5/5 [==============================] - 0s 5ms/step - loss: 0.6780 - accuracy: 0.5725\n",
      "Epoch 5/100\n",
      "5/5 [==============================] - 0s 6ms/step - loss: 0.6774 - accuracy: 0.5725\n",
      "Epoch 6/100\n",
      "5/5 [==============================] - 0s 5ms/step - loss: 0.6703 - accuracy: 0.5725\n",
      "Epoch 7/100\n",
      "5/5 [==============================] - 0s 5ms/step - loss: 0.6729 - accuracy: 0.5725\n",
      "Epoch 8/100\n",
      "5/5 [==============================] - 0s 5ms/step - loss: 0.6633 - accuracy: 0.5725\n",
      "Epoch 9/100\n",
      "5/5 [==============================] - 0s 5ms/step - loss: 0.6683 - accuracy: 0.5725\n",
      "Epoch 10/100\n",
      "5/5 [==============================] - 0s 5ms/step - loss: 0.6653 - accuracy: 0.6014\n",
      "Epoch 11/100\n",
      "5/5 [==============================] - 0s 7ms/step - loss: 0.6581 - accuracy: 0.6232\n",
      "Epoch 12/100\n",
      "5/5 [==============================] - 0s 9ms/step - loss: 0.6519 - accuracy: 0.5942\n",
      "Epoch 13/100\n",
      "5/5 [==============================] - 0s 7ms/step - loss: 0.6484 - accuracy: 0.5870\n",
      "Epoch 14/100\n",
      "5/5 [==============================] - 0s 8ms/step - loss: 0.6408 - accuracy: 0.6087\n",
      "Epoch 15/100\n",
      "5/5 [==============================] - 0s 6ms/step - loss: 0.6490 - accuracy: 0.5725\n",
      "Epoch 16/100\n",
      "5/5 [==============================] - 0s 9ms/step - loss: 0.6393 - accuracy: 0.6522\n",
      "Epoch 17/100\n",
      "5/5 [==============================] - 0s 7ms/step - loss: 0.6325 - accuracy: 0.6739\n",
      "Epoch 18/100\n",
      "5/5 [==============================] - 0s 8ms/step - loss: 0.6223 - accuracy: 0.7029\n",
      "Epoch 19/100\n",
      "5/5 [==============================] - 0s 7ms/step - loss: 0.6156 - accuracy: 0.7319\n",
      "Epoch 20/100\n",
      "5/5 [==============================] - 0s 6ms/step - loss: 0.6081 - accuracy: 0.7174\n",
      "Epoch 21/100\n",
      "5/5 [==============================] - 0s 8ms/step - loss: 0.6040 - accuracy: 0.7101\n",
      "Epoch 22/100\n",
      "5/5 [==============================] - 0s 6ms/step - loss: 0.6022 - accuracy: 0.7464\n",
      "Epoch 23/100\n",
      "5/5 [==============================] - 0s 8ms/step - loss: 0.5816 - accuracy: 0.7536\n",
      "Epoch 24/100\n",
      "5/5 [==============================] - 0s 6ms/step - loss: 0.5761 - accuracy: 0.7174\n",
      "Epoch 25/100\n",
      "5/5 [==============================] - 0s 5ms/step - loss: 0.5816 - accuracy: 0.6957\n",
      "Epoch 26/100\n",
      "5/5 [==============================] - 0s 5ms/step - loss: 0.5545 - accuracy: 0.7754\n",
      "Epoch 27/100\n",
      "5/5 [==============================] - 0s 6ms/step - loss: 0.5559 - accuracy: 0.7391\n",
      "Epoch 28/100\n",
      "5/5 [==============================] - 0s 8ms/step - loss: 0.5392 - accuracy: 0.8043\n",
      "Epoch 29/100\n",
      "5/5 [==============================] - 0s 8ms/step - loss: 0.5207 - accuracy: 0.8261\n",
      "Epoch 30/100\n",
      "5/5 [==============================] - 0s 7ms/step - loss: 0.5170 - accuracy: 0.8116\n",
      "Epoch 31/100\n",
      "5/5 [==============================] - 0s 8ms/step - loss: 0.5188 - accuracy: 0.7754\n",
      "Epoch 32/100\n",
      "5/5 [==============================] - 0s 9ms/step - loss: 0.5029 - accuracy: 0.7754\n",
      "Epoch 33/100\n",
      "5/5 [==============================] - 0s 7ms/step - loss: 0.4823 - accuracy: 0.8478\n",
      "Epoch 34/100\n",
      "5/5 [==============================] - 0s 7ms/step - loss: 0.4736 - accuracy: 0.7971\n",
      "Epoch 35/100\n",
      "5/5 [==============================] - 0s 8ms/step - loss: 0.4629 - accuracy: 0.8406\n",
      "Epoch 36/100\n",
      "5/5 [==============================] - 0s 6ms/step - loss: 0.4514 - accuracy: 0.8478\n",
      "Epoch 37/100\n",
      "5/5 [==============================] - 0s 7ms/step - loss: 0.4243 - accuracy: 0.8478\n",
      "Epoch 38/100\n",
      "5/5 [==============================] - 0s 5ms/step - loss: 0.4200 - accuracy: 0.8116\n",
      "Epoch 39/100\n",
      "5/5 [==============================] - 0s 5ms/step - loss: 0.4026 - accuracy: 0.8696\n",
      "Epoch 40/100\n",
      "5/5 [==============================] - 0s 7ms/step - loss: 0.3888 - accuracy: 0.8696\n",
      "Epoch 41/100\n",
      "5/5 [==============================] - 0s 5ms/step - loss: 0.3815 - accuracy: 0.8478\n",
      "Epoch 42/100\n",
      "5/5 [==============================] - 0s 6ms/step - loss: 0.3912 - accuracy: 0.8406\n",
      "Epoch 43/100\n",
      "5/5 [==============================] - 0s 6ms/step - loss: 0.3615 - accuracy: 0.8768\n",
      "Epoch 44/100\n",
      "5/5 [==============================] - 0s 8ms/step - loss: 0.3281 - accuracy: 0.9275\n",
      "Epoch 45/100\n",
      "5/5 [==============================] - 0s 7ms/step - loss: 0.3411 - accuracy: 0.8986\n",
      "Epoch 46/100\n",
      "5/5 [==============================] - 0s 8ms/step - loss: 0.3156 - accuracy: 0.9203\n",
      "Epoch 47/100\n",
      "5/5 [==============================] - 0s 7ms/step - loss: 0.2947 - accuracy: 0.9058\n",
      "Epoch 48/100\n",
      "5/5 [==============================] - 0s 10ms/step - loss: 0.2807 - accuracy: 0.9203\n",
      "Epoch 49/100\n",
      "5/5 [==============================] - 0s 6ms/step - loss: 0.2799 - accuracy: 0.9130\n",
      "Epoch 50/100\n",
      "5/5 [==============================] - 0s 7ms/step - loss: 0.2624 - accuracy: 0.9493\n",
      "Epoch 51/100\n",
      "5/5 [==============================] - 0s 7ms/step - loss: 0.2427 - accuracy: 0.9275\n",
      "Epoch 52/100\n",
      "5/5 [==============================] - 0s 7ms/step - loss: 0.2613 - accuracy: 0.9058\n",
      "Epoch 53/100\n",
      "5/5 [==============================] - 0s 7ms/step - loss: 0.3009 - accuracy: 0.8623\n",
      "Epoch 54/100\n",
      "5/5 [==============================] - 0s 6ms/step - loss: 0.2597 - accuracy: 0.9203\n",
      "Epoch 55/100\n",
      "5/5 [==============================] - 0s 5ms/step - loss: 0.2167 - accuracy: 0.9420\n",
      "Epoch 56/100\n",
      "5/5 [==============================] - 0s 5ms/step - loss: 0.1991 - accuracy: 0.9638\n",
      "Epoch 57/100\n",
      "5/5 [==============================] - 0s 5ms/step - loss: 0.1879 - accuracy: 0.9710\n",
      "Epoch 58/100\n",
      "5/5 [==============================] - 0s 5ms/step - loss: 0.1841 - accuracy: 0.9710\n",
      "Epoch 59/100\n",
      "5/5 [==============================] - 0s 8ms/step - loss: 0.1841 - accuracy: 0.9638\n",
      "Epoch 60/100\n",
      "5/5 [==============================] - 0s 8ms/step - loss: 0.1721 - accuracy: 0.9565\n",
      "Epoch 61/100\n",
      "5/5 [==============================] - 0s 7ms/step - loss: 0.1442 - accuracy: 0.9783\n",
      "Epoch 62/100\n",
      "5/5 [==============================] - 0s 8ms/step - loss: 0.1372 - accuracy: 0.9855\n",
      "Epoch 63/100\n",
      "5/5 [==============================] - 0s 11ms/step - loss: 0.1420 - accuracy: 0.9638\n",
      "Epoch 64/100\n",
      "5/5 [==============================] - 0s 7ms/step - loss: 0.1279 - accuracy: 0.9855\n",
      "Epoch 65/100\n",
      "5/5 [==============================] - 0s 7ms/step - loss: 0.1098 - accuracy: 0.9855\n",
      "Epoch 66/100\n",
      "5/5 [==============================] - 0s 7ms/step - loss: 0.1101 - accuracy: 0.9855\n",
      "Epoch 67/100\n",
      "5/5 [==============================] - 0s 5ms/step - loss: 0.0971 - accuracy: 0.9928\n",
      "Epoch 68/100\n",
      "5/5 [==============================] - 0s 5ms/step - loss: 0.0907 - accuracy: 0.9928\n",
      "Epoch 69/100\n",
      "5/5 [==============================] - 0s 5ms/step - loss: 0.0878 - accuracy: 0.9928\n",
      "Epoch 70/100\n",
      "5/5 [==============================] - 0s 5ms/step - loss: 0.0797 - accuracy: 1.0000\n",
      "Epoch 71/100\n",
      "5/5 [==============================] - 0s 5ms/step - loss: 0.0778 - accuracy: 1.0000\n",
      "Epoch 72/100\n",
      "5/5 [==============================] - 0s 4ms/step - loss: 0.0749 - accuracy: 0.9928\n",
      "Epoch 73/100\n",
      "5/5 [==============================] - 0s 6ms/step - loss: 0.0717 - accuracy: 0.9928\n",
      "Epoch 74/100\n",
      "5/5 [==============================] - 0s 5ms/step - loss: 0.0670 - accuracy: 0.9928\n",
      "Epoch 75/100\n",
      "5/5 [==============================] - 0s 5ms/step - loss: 0.0612 - accuracy: 0.9928\n",
      "Epoch 76/100\n",
      "5/5 [==============================] - 0s 6ms/step - loss: 0.0548 - accuracy: 1.0000\n",
      "Epoch 77/100\n",
      "5/5 [==============================] - 0s 6ms/step - loss: 0.0547 - accuracy: 1.0000\n",
      "Epoch 78/100\n",
      "5/5 [==============================] - 0s 7ms/step - loss: 0.0466 - accuracy: 1.0000\n",
      "Epoch 79/100\n",
      "5/5 [==============================] - 0s 9ms/step - loss: 0.0480 - accuracy: 1.0000\n",
      "Epoch 80/100\n",
      "5/5 [==============================] - 0s 10ms/step - loss: 0.0521 - accuracy: 0.9928\n",
      "Epoch 81/100\n",
      "5/5 [==============================] - 0s 9ms/step - loss: 0.0479 - accuracy: 0.9928\n",
      "Epoch 82/100\n",
      "5/5 [==============================] - 0s 8ms/step - loss: 0.0356 - accuracy: 1.0000\n",
      "Epoch 83/100\n",
      "5/5 [==============================] - 0s 7ms/step - loss: 0.0426 - accuracy: 0.9928\n",
      "Epoch 84/100\n",
      "5/5 [==============================] - 0s 5ms/step - loss: 0.0399 - accuracy: 1.0000\n",
      "Epoch 85/100\n",
      "5/5 [==============================] - 0s 6ms/step - loss: 0.0506 - accuracy: 0.9928\n",
      "Epoch 86/100\n",
      "5/5 [==============================] - 0s 5ms/step - loss: 0.0520 - accuracy: 0.9855\n",
      "Epoch 87/100\n",
      "5/5 [==============================] - 0s 6ms/step - loss: 0.0447 - accuracy: 0.9928\n",
      "Epoch 88/100\n",
      "5/5 [==============================] - 0s 7ms/step - loss: 0.0387 - accuracy: 1.0000\n",
      "Epoch 89/100\n",
      "5/5 [==============================] - 0s 7ms/step - loss: 0.0372 - accuracy: 1.0000\n",
      "Epoch 90/100\n",
      "5/5 [==============================] - 0s 7ms/step - loss: 0.0397 - accuracy: 1.0000\n",
      "Epoch 91/100\n",
      "5/5 [==============================] - 0s 6ms/step - loss: 0.0263 - accuracy: 1.0000\n",
      "Epoch 92/100\n",
      "5/5 [==============================] - 0s 4ms/step - loss: 0.0296 - accuracy: 1.0000\n",
      "Epoch 93/100\n",
      "5/5 [==============================] - 0s 6ms/step - loss: 0.0245 - accuracy: 1.0000\n",
      "Epoch 94/100\n",
      "5/5 [==============================] - 0s 5ms/step - loss: 0.0205 - accuracy: 1.0000\n",
      "Epoch 95/100\n",
      "5/5 [==============================] - 0s 6ms/step - loss: 0.0206 - accuracy: 1.0000\n",
      "Epoch 96/100\n",
      "5/5 [==============================] - 0s 8ms/step - loss: 0.0190 - accuracy: 1.0000\n",
      "Epoch 97/100\n",
      "5/5 [==============================] - 0s 8ms/step - loss: 0.0185 - accuracy: 1.0000\n",
      "Epoch 98/100\n",
      "5/5 [==============================] - 0s 8ms/step - loss: 0.0166 - accuracy: 1.0000\n",
      "Epoch 99/100\n",
      "5/5 [==============================] - 0s 7ms/step - loss: 0.0160 - accuracy: 1.0000\n",
      "Epoch 100/100\n",
      "5/5 [==============================] - 0s 11ms/step - loss: 0.0155 - accuracy: 1.0000\n"
     ]
    }
   ],
   "source": [
    "model.compile(\n",
    "  'adam',\n",
    "  loss=tf.keras.losses.CategoricalCrossentropy(from_logits=True),\n",
    "  metrics=['accuracy'],\n",
    ")\n",
    "\n",
    "X_train_arr = expand_dims(X_train_arr, axis=-1)\n",
    "history = model.fit(X_train_arr, y_train_arr, epochs=100)"
   ]
  },
  {
   "cell_type": "code",
   "execution_count": 12,
   "metadata": {},
   "outputs": [
    {
     "data": {
      "text/plain": [
       "<AxesSubplot:>"
      ]
     },
     "execution_count": 12,
     "metadata": {},
     "output_type": "execute_result"
    },
    {
     "data": {
      "image/png": "[encoded data removed]",
      "text/plain": [
       "<Figure size 432x288 with 1 Axes>"
      ]
     },
     "metadata": {
      "needs_background": "light"
     },
     "output_type": "display_data"
    }
   ],
   "source": [
    "metrics_df = pd.DataFrame(history.history)\n",
    "metrics_df[[\"loss\"]].plot()"
   ]
  },
  {
   "cell_type": "code",
   "execution_count": 13,
   "metadata": {},
   "outputs": [
    {
     "name": "stdout",
     "output_type": "stream",
     "text": [
      "2/2 [==============================] - 0s 3ms/step\n"
     ]
    },
    {
     "data": {
      "text/plain": [
       "0.8244109"
      ]
     },
     "execution_count": 13,
     "metadata": {},
     "output_type": "execute_result"
    }
   ],
   "source": [
    "X_test_arr = expand_dims(X_test_arr, axis=-1)\n",
    "pred_arr = model.predict(X_test_arr)\n",
    "\n",
    "cce = tf.keras.losses.CategoricalCrossentropy(from_logits=True)\n",
    "cce(y_test_arr, pred_arr).numpy()"
   ]
  },
  {
   "cell_type": "code",
   "execution_count": 14,
   "metadata": {},
   "outputs": [],
   "source": [
    "test_pred_arr=[]\n",
    "for x in pred_arr:\n",
    "    if x[0]>0.5:\n",
    "        test_pred_arr.append(1)\n",
    "    else:\n",
    "        test_pred_arr.append(0)\n",
    "        \n",
    "actual_test_arr = []\n",
    "for x in y_test_arr:\n",
    "    if x[0]>0:\n",
    "        actual_test_arr.append(1)\n",
    "    else:\n",
    "        actual_test_arr.append(0)"
   ]
  },
  {
   "cell_type": "code",
   "execution_count": 15,
   "metadata": {},
   "outputs": [
    {
     "data": {
      "image/png": "[encoded data removed]",
      "text/plain": [
       "<Figure size 1440x504 with 1 Axes>"
      ]
     },
     "metadata": {
      "needs_background": "light"
     },
     "output_type": "display_data"
    },
    {
     "name": "stdout",
     "output_type": "stream",
     "text": [
      "Directional accuracy percentage: 42.592592592592595\n"
     ]
    }
   ],
   "source": [
    "plt.figure(figsize=(20,7))\n",
    "plt.plot(actual_test_arr)\n",
    "plt.plot(test_pred_arr)\n",
    "plt.legend([\"Actual\", \"Predicted\"], loc =\"lower right\")\n",
    "plt.show()\n",
    "\n",
    "z=0\n",
    "for i in range(len(actual_test_arr)):\n",
    "    if actual_test_arr[i]==test_pred_arr[i]:\n",
    "        z=z+1\n",
    "\n",
    "print(\"Directional accuracy percentage:\", z/len(actual_test_arr)*100)"
   ]
  }
 ],
 "metadata": {
  "interpreter": {
   "hash": "ad2bdc8ecc057115af97d19610ffacc2b4e99fae6737bb82f5d7fb13d2f2c186"
  },
  "kernelspec": {
   "display_name": "Python 3.8.10 ('base')",
   "language": "python",
   "name": "python3"
  },
  "language_info": {
   "codemirror_mode": {
    "name": "ipython",
    "version": 3
   },
   "file_extension": ".py",
   "mimetype": "text/x-python",
   "name": "python",
   "nbconvert_exporter": "python",
   "pygments_lexer": "ipython3",
   "version": "3.9.12"
  },
  "orig_nbformat": 4
 },
 "nbformat": 4,
 "nbformat_minor": 2
}
