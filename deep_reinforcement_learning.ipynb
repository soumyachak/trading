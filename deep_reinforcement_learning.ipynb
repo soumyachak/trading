{
 "cells": [
  {
   "cell_type": "markdown",
   "metadata": {},
   "source": [
    "##### Deep Reinforcement learning is used to predict buy,hold or sell share based on previous days stock prices. Stable_baselines3 has been used with  MLPpolicy"
   ]
  },
  {
   "cell_type": "code",
   "execution_count": 152,
   "metadata": {},
   "outputs": [],
   "source": [
    "import random\n",
    "import gym\n",
    "from gym import spaces\n",
    "import pandas as pd\n",
    "import numpy as np\n",
    "import datetime as dt\n",
    "from stable_baselines3.common.vec_env import DummyVecEnv\n",
    "from stable_baselines3 import DQN\n",
    "from tensorflow.keras.models import Sequential\n",
    "from tensorflow.keras.layers import Dense, Flatten\n",
    "from tensorflow.keras.optimizers import Adam\n",
    "from rl.agents import DQNAgent\n",
    "from rl.policy import BoltzmannQPolicy\n",
    "from rl.memory import SequentialMemory\n",
    "import matplotlib.pyplot as plt\n",
    "from numpy import expand_dims"
   ]
  },
  {
   "cell_type": "code",
   "execution_count": 153,
   "metadata": {},
   "outputs": [
    {
     "data": {
      "text/html": [
       "<div>\n",
       "<style scoped>\n",
       "    .dataframe tbody tr th:only-of-type {\n",
       "        vertical-align: middle;\n",
       "    }\n",
       "\n",
       "    .dataframe tbody tr th {\n",
       "        vertical-align: top;\n",
       "    }\n",
       "\n",
       "    .dataframe thead th {\n",
       "        text-align: right;\n",
       "    }\n",
       "</style>\n",
       "<table border=\"1\" class=\"dataframe\">\n",
       "  <thead>\n",
       "    <tr style=\"text-align: right;\">\n",
       "      <th></th>\n",
       "      <th>Date</th>\n",
       "      <th>Open</th>\n",
       "      <th>High</th>\n",
       "      <th>Low</th>\n",
       "      <th>Close</th>\n",
       "      <th>Shares Traded</th>\n",
       "    </tr>\n",
       "  </thead>\n",
       "  <tbody>\n",
       "    <tr>\n",
       "      <th>0</th>\n",
       "      <td>2021-04-27</td>\n",
       "      <td>14493.80</td>\n",
       "      <td>14667.55</td>\n",
       "      <td>14484.85</td>\n",
       "      <td>14653.05</td>\n",
       "      <td>442211685</td>\n",
       "    </tr>\n",
       "    <tr>\n",
       "      <th>1</th>\n",
       "      <td>2021-04-28</td>\n",
       "      <td>14710.50</td>\n",
       "      <td>14890.25</td>\n",
       "      <td>14694.95</td>\n",
       "      <td>14864.55</td>\n",
       "      <td>453990807</td>\n",
       "    </tr>\n",
       "    <tr>\n",
       "      <th>2</th>\n",
       "      <td>2021-04-29</td>\n",
       "      <td>14979.00</td>\n",
       "      <td>15044.35</td>\n",
       "      <td>14814.45</td>\n",
       "      <td>14894.90</td>\n",
       "      <td>511466673</td>\n",
       "    </tr>\n",
       "    <tr>\n",
       "      <th>3</th>\n",
       "      <td>2021-04-30</td>\n",
       "      <td>14747.35</td>\n",
       "      <td>14855.45</td>\n",
       "      <td>14601.70</td>\n",
       "      <td>14631.10</td>\n",
       "      <td>594744498</td>\n",
       "    </tr>\n",
       "    <tr>\n",
       "      <th>4</th>\n",
       "      <td>2021-05-03</td>\n",
       "      <td>14481.05</td>\n",
       "      <td>14673.85</td>\n",
       "      <td>14416.25</td>\n",
       "      <td>14634.15</td>\n",
       "      <td>443410846</td>\n",
       "    </tr>\n",
       "  </tbody>\n",
       "</table>\n",
       "</div>"
      ],
      "text/plain": [
       "        Date      Open      High       Low     Close  Shares Traded\n",
       "0 2021-04-27  14493.80  14667.55  14484.85  14653.05      442211685\n",
       "1 2021-04-28  14710.50  14890.25  14694.95  14864.55      453990807\n",
       "2 2021-04-29  14979.00  15044.35  14814.45  14894.90      511466673\n",
       "3 2021-04-30  14747.35  14855.45  14601.70  14631.10      594744498\n",
       "4 2021-05-03  14481.05  14673.85  14416.25  14634.15      443410846"
      ]
     },
     "execution_count": 153,
     "metadata": {},
     "output_type": "execute_result"
    }
   ],
   "source": [
    "df = pd.read_csv('data.csv', header=0, parse_dates=[0])\n",
    "df_cleaned = df.dropna()\n",
    "df_cleaned.head(5)"
   ]
  },
  {
   "cell_type": "code",
   "execution_count": 154,
   "metadata": {},
   "outputs": [
    {
     "data": {
      "text/plain": [
       "1    14710.50\n",
       "2    14979.00\n",
       "3    14747.35\n",
       "4    14481.05\n",
       "5    14687.25\n",
       "Name: Open, dtype: float64"
      ]
     },
     "execution_count": 154,
     "metadata": {},
     "output_type": "execute_result"
    }
   ],
   "source": [
    "df.loc[1: 5, 'Open']"
   ]
  },
  {
   "cell_type": "code",
   "execution_count": 155,
   "metadata": {},
   "outputs": [],
   "source": [
    "MAX_ACCOUNT_BALANCE = 1000000\n",
    "MAX_NUM_SHARES = 1000000000\n",
    "MAX_SHARE_PRICE = 19000\n",
    "# MAX_SHARE_PRICE = 1\n",
    "# MAX_STEPS = 2000\n",
    "\n",
    "INITIAL_ACCOUNT_BALANCE = 100000\n",
    "\n",
    "\n",
    "class StockTradingEnv(gym.Env):\n",
    "    \"\"\"A stock trading environment for OpenAI gym\"\"\"\n",
    "    metadata = {'render.modes': ['human']}\n",
    "\n",
    "    def __init__(self, df):\n",
    "        super(StockTradingEnv, self).__init__()\n",
    "\n",
    "        self.df = df\n",
    "\n",
    "        # Actions of the format Buy x%, Sell x%, Hold, etc.\n",
    "        self.action_space = spaces.Discrete(3)\n",
    "\n",
    "        # Prices contains the OHCL values for the last five prices\n",
    "        self.observation_space = spaces.Box(\n",
    "            low=0, high=1, shape=(5, 6), dtype=np.float16)\n",
    "\n",
    "    def _next_observation(self):\n",
    "        # Get the stock data points for the last 6 days and scale to between 0-1\n",
    "        frame = np.array([\n",
    "            self.df.loc[self.current_step - 5: self.current_step, 'Open'].values / MAX_SHARE_PRICE,\n",
    "            self.df.loc[self.current_step - 5: self.current_step, 'High'].values / MAX_SHARE_PRICE,\n",
    "            self.df.loc[self.current_step - 5: self.current_step, 'Low'].values / MAX_SHARE_PRICE,\n",
    "            self.df.loc[self.current_step - 5: self.current_step, 'Close'].values / MAX_SHARE_PRICE,\n",
    "            self.df.loc[self.current_step - 5: self.current_step, 'Shares Traded'].values / MAX_NUM_SHARES,\n",
    "        ])\n",
    "\n",
    "        return frame\n",
    "\n",
    "    def _take_action(self, action):\n",
    "        # Set the current price to a random price within the time step\n",
    "        self.current_price = random.uniform(\n",
    "            self.df.loc[self.current_step, \"Open\"], self.df.loc[self.current_step, \"Close\"])\n",
    "\n",
    "        action_type = action\n",
    "        amount = np.random.random()\n",
    "\n",
    "        if action_type == 1:\n",
    "            # Buy amount % of balance in shares\n",
    "            total_possible = int(self.balance / self.current_price)\n",
    "\n",
    "            shares_bought = int(total_possible * amount)\n",
    "            prev_cost = self.cost_basis * self.shares_held\n",
    "            additional_cost = shares_bought * self.current_price\n",
    "\n",
    "            self.balance -= additional_cost\n",
    "\n",
    "            self.cost_basis = (\n",
    "                prev_cost + additional_cost) / (self.shares_held + shares_bought)\n",
    "            self.shares_held += shares_bought\n",
    "\n",
    "        elif action_type == 2:\n",
    "            # Sell amount % of shares held\n",
    "            shares_sold = int(self.shares_held)\n",
    "\n",
    "            self.balance += shares_sold * self.current_price\n",
    "            self.shares_held = 0\n",
    "            self.total_shares_sold += shares_sold\n",
    "            self.total_sales_value += shares_sold * self.current_price\n",
    "\n",
    "        self.net_worth = self.balance + self.shares_held * self.current_price\n",
    "\n",
    "        if self.shares_held == 0:\n",
    "            self.cost_basis = 0\n",
    "\n",
    "    def step(self, action):\n",
    "        # Execute one time step within the environment\n",
    "        self._take_action(action)\n",
    "\n",
    "        # delay_modifier = (self.current_step / MAX_STEPS) # for long term reward\n",
    "        # reward = self.balance * delay_modifier\n",
    "        if action==2:\n",
    "            if self.current_price>self.cost_basis:\n",
    "                reward = 1\n",
    "            else:\n",
    "                reward = -1\n",
    "        else:\n",
    "            reward = 0\n",
    "        \n",
    "        done = False\n",
    "\n",
    "        self.current_step += 1\n",
    "        \n",
    "        if self.shares_held>0:\n",
    "            done = self.net_worth <= 95000\n",
    "        if self.current_step > len(self.df.loc[:, 'Open'].values)-2:\n",
    "            done = True\n",
    "\n",
    "        obs = self._next_observation()\n",
    "\n",
    "        return obs, reward, done, {}\n",
    "\n",
    "    def reset(self):\n",
    "        # Reset the state of the environment to an initial state\n",
    "        self.balance = INITIAL_ACCOUNT_BALANCE\n",
    "        self.net_worth = INITIAL_ACCOUNT_BALANCE\n",
    "        self.shares_held = 0\n",
    "        self.cost_basis = 0\n",
    "        self.total_shares_sold = 0\n",
    "        self.total_sales_value = 0\n",
    "        self.current_price = 0\n",
    "\n",
    "        # Set the current step to a random point within the data frame\n",
    "        self.current_step = random.randint(\n",
    "            6, len(self.df.loc[:, 'Open'].values) - 6)\n",
    "\n",
    "        return self._next_observation()\n",
    "\n",
    "    def render(self, mode='human', close=False):\n",
    "        # Render the environment to the screen\n",
    "        profit = self.net_worth - INITIAL_ACCOUNT_BALANCE\n",
    "\n",
    "        print(f'Step: {self.current_step}')\n",
    "        print(f'Balance: {self.balance}')\n",
    "        print(f'Shares held: {self.shares_held} (Total sold: {self.total_shares_sold})')\n",
    "        print(f'Avg cost for held shares: {self.cost_basis} (Total sales value: {self.total_sales_value})')\n",
    "        print(f'Net worth: {self.net_worth}')\n",
    "        print(f'Profit: {profit}')"
   ]
  },
  {
   "cell_type": "code",
   "execution_count": 156,
   "metadata": {},
   "outputs": [
    {
     "name": "stdout",
     "output_type": "stream",
     "text": [
      "Episode:1 Score:38\n",
      "Episode:2 Score:34\n",
      "Episode:3 Score:15\n",
      "Episode:4 Score:20\n",
      "Episode:5 Score:65\n"
     ]
    },
    {
     "name": "stderr",
     "output_type": "stream",
     "text": [
      "C:\\Users\\soumya\\AppData\\Local\\Temp\\ipykernel_13636\\3480039452.py:56: RuntimeWarning: invalid value encountered in double_scalars\n",
      "  self.cost_basis = (\n"
     ]
    }
   ],
   "source": [
    "env = StockTradingEnv(df)\n",
    "episodes = 5\n",
    "for episode in range(1, episodes+1):\n",
    "    state = env.reset()\n",
    "    done = False\n",
    "    score = 0 \n",
    "\n",
    "    while not done:\n",
    "        action = env.action_space.sample()\n",
    "        n_state, reward, done, info = env.step(action)\n",
    "        score+=reward\n",
    "\n",
    "    print('Episode:{} Score:{}'.format(episode, score))"
   ]
  },
  {
   "cell_type": "code",
   "execution_count": 157,
   "metadata": {},
   "outputs": [
    {
     "name": "stdout",
     "output_type": "stream",
     "text": [
      "Using cpu device\n"
     ]
    },
    {
     "name": "stderr",
     "output_type": "stream",
     "text": [
      "C:\\Users\\soumya\\AppData\\Local\\Temp\\ipykernel_13636\\3480039452.py:56: RuntimeWarning: invalid value encountered in double_scalars\n",
      "  self.cost_basis = (\n"
     ]
    },
    {
     "name": "stdout",
     "output_type": "stream",
     "text": [
      "----------------------------------\n",
      "| rollout/            |          |\n",
      "|    exploration_rate | 0.727    |\n",
      "| time/               |          |\n",
      "|    episodes         | 4        |\n",
      "|    fps              | 1715     |\n",
      "|    time_elapsed     | 0        |\n",
      "|    total_timesteps  | 575      |\n",
      "----------------------------------\n",
      "----------------------------------\n",
      "| rollout/            |          |\n",
      "|    exploration_rate | 0.679    |\n",
      "| time/               |          |\n",
      "|    episodes         | 8        |\n",
      "|    fps              | 1728     |\n",
      "|    time_elapsed     | 0        |\n",
      "|    total_timesteps  | 676      |\n",
      "----------------------------------\n",
      "----------------------------------\n",
      "| rollout/            |          |\n",
      "|    exploration_rate | 0.391    |\n",
      "| time/               |          |\n",
      "|    episodes         | 12       |\n",
      "|    fps              | 1818     |\n",
      "|    time_elapsed     | 0        |\n",
      "|    total_timesteps  | 1282     |\n",
      "----------------------------------\n",
      "----------------------------------\n",
      "| rollout/            |          |\n",
      "|    exploration_rate | 0.221    |\n",
      "| time/               |          |\n",
      "|    episodes         | 16       |\n",
      "|    fps              | 1844     |\n",
      "|    time_elapsed     | 0        |\n",
      "|    total_timesteps  | 1640     |\n",
      "----------------------------------\n",
      "----------------------------------\n",
      "| rollout/            |          |\n",
      "|    exploration_rate | 0.05     |\n",
      "| time/               |          |\n",
      "|    episodes         | 20       |\n",
      "|    fps              | 1862     |\n",
      "|    time_elapsed     | 1        |\n",
      "|    total_timesteps  | 2335     |\n",
      "----------------------------------\n",
      "----------------------------------\n",
      "| rollout/            |          |\n",
      "|    exploration_rate | 0.05     |\n",
      "| time/               |          |\n",
      "|    episodes         | 24       |\n",
      "|    fps              | 1811     |\n",
      "|    time_elapsed     | 1        |\n",
      "|    total_timesteps  | 2903     |\n",
      "----------------------------------\n",
      "----------------------------------\n",
      "| rollout/            |          |\n",
      "|    exploration_rate | 0.05     |\n",
      "| time/               |          |\n",
      "|    episodes         | 28       |\n",
      "|    fps              | 1781     |\n",
      "|    time_elapsed     | 1        |\n",
      "|    total_timesteps  | 3539     |\n",
      "----------------------------------\n",
      "----------------------------------\n",
      "| rollout/            |          |\n",
      "|    exploration_rate | 0.05     |\n",
      "| time/               |          |\n",
      "|    episodes         | 32       |\n",
      "|    fps              | 1797     |\n",
      "|    time_elapsed     | 2        |\n",
      "|    total_timesteps  | 3964     |\n",
      "----------------------------------\n",
      "----------------------------------\n",
      "| rollout/            |          |\n",
      "|    exploration_rate | 0.05     |\n",
      "| time/               |          |\n",
      "|    episodes         | 36       |\n",
      "|    fps              | 1800     |\n",
      "|    time_elapsed     | 2        |\n",
      "|    total_timesteps  | 4479     |\n",
      "----------------------------------\n",
      "----------------------------------\n",
      "| rollout/            |          |\n",
      "|    exploration_rate | 0.05     |\n",
      "| time/               |          |\n",
      "|    episodes         | 40       |\n",
      "|    fps              | 1805     |\n",
      "|    time_elapsed     | 2        |\n",
      "|    total_timesteps  | 4899     |\n",
      "----------------------------------\n",
      "----------------------------------\n",
      "| rollout/            |          |\n",
      "|    exploration_rate | 0.05     |\n",
      "| time/               |          |\n",
      "|    episodes         | 44       |\n",
      "|    fps              | 1816     |\n",
      "|    time_elapsed     | 3        |\n",
      "|    total_timesteps  | 5480     |\n",
      "----------------------------------\n",
      "----------------------------------\n",
      "| rollout/            |          |\n",
      "|    exploration_rate | 0.05     |\n",
      "| time/               |          |\n",
      "|    episodes         | 48       |\n",
      "|    fps              | 1826     |\n",
      "|    time_elapsed     | 3        |\n",
      "|    total_timesteps  | 5821     |\n",
      "----------------------------------\n",
      "----------------------------------\n",
      "| rollout/            |          |\n",
      "|    exploration_rate | 0.05     |\n",
      "| time/               |          |\n",
      "|    episodes         | 52       |\n",
      "|    fps              | 1831     |\n",
      "|    time_elapsed     | 3        |\n",
      "|    total_timesteps  | 6378     |\n",
      "----------------------------------\n",
      "----------------------------------\n",
      "| rollout/            |          |\n",
      "|    exploration_rate | 0.05     |\n",
      "| time/               |          |\n",
      "|    episodes         | 56       |\n",
      "|    fps              | 1837     |\n",
      "|    time_elapsed     | 3        |\n",
      "|    total_timesteps  | 6940     |\n",
      "----------------------------------\n",
      "----------------------------------\n",
      "| rollout/            |          |\n",
      "|    exploration_rate | 0.05     |\n",
      "| time/               |          |\n",
      "|    episodes         | 60       |\n",
      "|    fps              | 1844     |\n",
      "|    time_elapsed     | 4        |\n",
      "|    total_timesteps  | 7452     |\n",
      "----------------------------------\n",
      "----------------------------------\n",
      "| rollout/            |          |\n",
      "|    exploration_rate | 0.05     |\n",
      "| time/               |          |\n",
      "|    episodes         | 64       |\n",
      "|    fps              | 1841     |\n",
      "|    time_elapsed     | 4        |\n",
      "|    total_timesteps  | 7931     |\n",
      "----------------------------------\n",
      "----------------------------------\n",
      "| rollout/            |          |\n",
      "|    exploration_rate | 0.05     |\n",
      "| time/               |          |\n",
      "|    episodes         | 68       |\n",
      "|    fps              | 1840     |\n",
      "|    time_elapsed     | 4        |\n",
      "|    total_timesteps  | 8483     |\n",
      "----------------------------------\n",
      "----------------------------------\n",
      "| rollout/            |          |\n",
      "|    exploration_rate | 0.05     |\n",
      "| time/               |          |\n",
      "|    episodes         | 72       |\n",
      "|    fps              | 1844     |\n",
      "|    time_elapsed     | 4        |\n",
      "|    total_timesteps  | 9145     |\n",
      "----------------------------------\n",
      "----------------------------------\n",
      "| rollout/            |          |\n",
      "|    exploration_rate | 0.05     |\n",
      "| time/               |          |\n",
      "|    episodes         | 76       |\n",
      "|    fps              | 1850     |\n",
      "|    time_elapsed     | 5        |\n",
      "|    total_timesteps  | 9599     |\n",
      "----------------------------------\n",
      "----------------------------------\n",
      "| rollout/            |          |\n",
      "|    exploration_rate | 0.05     |\n",
      "| time/               |          |\n",
      "|    episodes         | 80       |\n",
      "|    fps              | 1854     |\n",
      "|    time_elapsed     | 5        |\n",
      "|    total_timesteps  | 10026    |\n",
      "----------------------------------\n",
      "----------------------------------\n",
      "| rollout/            |          |\n",
      "|    exploration_rate | 0.05     |\n",
      "| time/               |          |\n",
      "|    episodes         | 84       |\n",
      "|    fps              | 1855     |\n",
      "|    time_elapsed     | 5        |\n",
      "|    total_timesteps  | 10694    |\n",
      "----------------------------------\n",
      "----------------------------------\n",
      "| rollout/            |          |\n",
      "|    exploration_rate | 0.05     |\n",
      "| time/               |          |\n",
      "|    episodes         | 88       |\n",
      "|    fps              | 1854     |\n",
      "|    time_elapsed     | 5        |\n",
      "|    total_timesteps  | 11074    |\n",
      "----------------------------------\n",
      "----------------------------------\n",
      "| rollout/            |          |\n",
      "|    exploration_rate | 0.05     |\n",
      "| time/               |          |\n",
      "|    episodes         | 92       |\n",
      "|    fps              | 1853     |\n",
      "|    time_elapsed     | 6        |\n",
      "|    total_timesteps  | 11652    |\n",
      "----------------------------------\n",
      "----------------------------------\n",
      "| rollout/            |          |\n",
      "|    exploration_rate | 0.05     |\n",
      "| time/               |          |\n",
      "|    episodes         | 96       |\n",
      "|    fps              | 1853     |\n",
      "|    time_elapsed     | 6        |\n",
      "|    total_timesteps  | 11886    |\n",
      "----------------------------------\n",
      "----------------------------------\n",
      "| rollout/            |          |\n",
      "|    exploration_rate | 0.05     |\n",
      "| time/               |          |\n",
      "|    episodes         | 100      |\n",
      "|    fps              | 1857     |\n",
      "|    time_elapsed     | 6        |\n",
      "|    total_timesteps  | 12468    |\n",
      "----------------------------------\n",
      "----------------------------------\n",
      "| rollout/            |          |\n",
      "|    exploration_rate | 0.05     |\n",
      "| time/               |          |\n",
      "|    episodes         | 104      |\n",
      "|    fps              | 1858     |\n",
      "|    time_elapsed     | 7        |\n",
      "|    total_timesteps  | 13010    |\n",
      "----------------------------------\n",
      "----------------------------------\n",
      "| rollout/            |          |\n",
      "|    exploration_rate | 0.05     |\n",
      "| time/               |          |\n",
      "|    episodes         | 108      |\n",
      "|    fps              | 1857     |\n",
      "|    time_elapsed     | 7        |\n",
      "|    total_timesteps  | 13503    |\n",
      "----------------------------------\n",
      "----------------------------------\n",
      "| rollout/            |          |\n",
      "|    exploration_rate | 0.05     |\n",
      "| time/               |          |\n",
      "|    episodes         | 112      |\n",
      "|    fps              | 1861     |\n",
      "|    time_elapsed     | 7        |\n",
      "|    total_timesteps  | 13936    |\n",
      "----------------------------------\n",
      "----------------------------------\n",
      "| rollout/            |          |\n",
      "|    exploration_rate | 0.05     |\n",
      "| time/               |          |\n",
      "|    episodes         | 116      |\n",
      "|    fps              | 1859     |\n",
      "|    time_elapsed     | 7        |\n",
      "|    total_timesteps  | 14494    |\n",
      "----------------------------------\n",
      "----------------------------------\n",
      "| rollout/            |          |\n",
      "|    exploration_rate | 0.05     |\n",
      "| time/               |          |\n",
      "|    episodes         | 120      |\n",
      "|    fps              | 1862     |\n",
      "|    time_elapsed     | 8        |\n",
      "|    total_timesteps  | 15049    |\n",
      "----------------------------------\n",
      "----------------------------------\n",
      "| rollout/            |          |\n",
      "|    exploration_rate | 0.05     |\n",
      "| time/               |          |\n",
      "|    episodes         | 124      |\n",
      "|    fps              | 1860     |\n",
      "|    time_elapsed     | 8        |\n",
      "|    total_timesteps  | 15391    |\n",
      "----------------------------------\n",
      "----------------------------------\n",
      "| rollout/            |          |\n",
      "|    exploration_rate | 0.05     |\n",
      "| time/               |          |\n",
      "|    episodes         | 128      |\n",
      "|    fps              | 1860     |\n",
      "|    time_elapsed     | 8        |\n",
      "|    total_timesteps  | 15763    |\n",
      "----------------------------------\n",
      "----------------------------------\n",
      "| rollout/            |          |\n",
      "|    exploration_rate | 0.05     |\n",
      "| time/               |          |\n",
      "|    episodes         | 132      |\n",
      "|    fps              | 1847     |\n",
      "|    time_elapsed     | 8        |\n",
      "|    total_timesteps  | 16188    |\n",
      "----------------------------------\n",
      "----------------------------------\n",
      "| rollout/            |          |\n",
      "|    exploration_rate | 0.05     |\n",
      "| time/               |          |\n",
      "|    episodes         | 136      |\n",
      "|    fps              | 1847     |\n",
      "|    time_elapsed     | 9        |\n",
      "|    total_timesteps  | 16897    |\n",
      "----------------------------------\n",
      "----------------------------------\n",
      "| rollout/            |          |\n",
      "|    exploration_rate | 0.05     |\n",
      "| time/               |          |\n",
      "|    episodes         | 140      |\n",
      "|    fps              | 1848     |\n",
      "|    time_elapsed     | 9        |\n",
      "|    total_timesteps  | 17402    |\n",
      "----------------------------------\n",
      "----------------------------------\n",
      "| rollout/            |          |\n",
      "|    exploration_rate | 0.05     |\n",
      "| time/               |          |\n",
      "|    episodes         | 144      |\n",
      "|    fps              | 1822     |\n",
      "|    time_elapsed     | 9        |\n",
      "|    total_timesteps  | 18108    |\n",
      "----------------------------------\n",
      "----------------------------------\n",
      "| rollout/            |          |\n",
      "|    exploration_rate | 0.05     |\n",
      "| time/               |          |\n",
      "|    episodes         | 148      |\n",
      "|    fps              | 1800     |\n",
      "|    time_elapsed     | 10       |\n",
      "|    total_timesteps  | 18613    |\n",
      "----------------------------------\n",
      "----------------------------------\n",
      "| rollout/            |          |\n",
      "|    exploration_rate | 0.05     |\n",
      "| time/               |          |\n",
      "|    episodes         | 152      |\n",
      "|    fps              | 1792     |\n",
      "|    time_elapsed     | 10       |\n",
      "|    total_timesteps  | 19025    |\n",
      "----------------------------------\n",
      "----------------------------------\n",
      "| rollout/            |          |\n",
      "|    exploration_rate | 0.05     |\n",
      "| time/               |          |\n",
      "|    episodes         | 156      |\n",
      "|    fps              | 1770     |\n",
      "|    time_elapsed     | 10       |\n",
      "|    total_timesteps  | 19473    |\n",
      "----------------------------------\n",
      "----------------------------------\n",
      "| rollout/            |          |\n",
      "|    exploration_rate | 0.05     |\n",
      "| time/               |          |\n",
      "|    episodes         | 160      |\n",
      "|    fps              | 1761     |\n",
      "|    time_elapsed     | 11       |\n",
      "|    total_timesteps  | 19693    |\n",
      "----------------------------------\n"
     ]
    },
    {
     "data": {
      "text/plain": [
       "<stable_baselines3.dqn.dqn.DQN at 0x179fe497670>"
      ]
     },
     "execution_count": 157,
     "metadata": {},
     "output_type": "execute_result"
    }
   ],
   "source": [
    "env = StockTradingEnv(df)\n",
    "env_1 = DummyVecEnv([lambda: env])\n",
    "\n",
    "model = DQN(\"MlpPolicy\", env_1, verbose=1)\n",
    "model.learn(total_timesteps=20000)"
   ]
  },
  {
   "cell_type": "code",
   "execution_count": 158,
   "metadata": {},
   "outputs": [
    {
     "data": {
      "text/plain": [
       "(1, 5, 6)"
      ]
     },
     "execution_count": 158,
     "metadata": {},
     "output_type": "execute_result"
    }
   ],
   "source": [
    "env_1.reset().shape"
   ]
  },
  {
   "cell_type": "code",
   "execution_count": 159,
   "metadata": {},
   "outputs": [
    {
     "data": {
      "text/plain": [
       "(array([1], dtype=int64), None)"
      ]
     },
     "execution_count": 159,
     "metadata": {},
     "output_type": "execute_result"
    }
   ],
   "source": [
    "model.predict(env_1.reset())"
   ]
  },
  {
   "cell_type": "code",
   "execution_count": 160,
   "metadata": {},
   "outputs": [
    {
     "name": "stderr",
     "output_type": "stream",
     "text": [
      "C:\\Users\\soumya\\AppData\\Local\\Temp\\ipykernel_13636\\3480039452.py:56: RuntimeWarning: invalid value encountered in double_scalars\n",
      "  self.cost_basis = (\n"
     ]
    },
    {
     "data": {
      "text/plain": [
       "(array([1], dtype=int64), None)"
      ]
     },
     "execution_count": 160,
     "metadata": {},
     "output_type": "execute_result"
    }
   ],
   "source": [
    "model.predict(env_1.step(model.predict(env_1.reset()))[0])"
   ]
  },
  {
   "cell_type": "code",
   "execution_count": 161,
   "metadata": {},
   "outputs": [
    {
     "data": {
      "image/png": "[encoded data removed]",
      "text/plain": [
       "<Figure size 1080x360 with 1 Axes>"
      ]
     },
     "metadata": {
      "needs_background": "light"
     },
     "output_type": "display_data"
    }
   ],
   "source": [
    "plt.figure(figsize=(15,5)) \n",
    "plt.plot(df.iloc[6:df.shape[0]-6,0], df.iloc[6:df.shape[0]-6,4])\n",
    "for i in range (6, df.shape[0]-6):\n",
    "    current_step = i\n",
    "    frame = np.array([\n",
    "            df.loc[current_step - 5: current_step, 'Open'].values / MAX_SHARE_PRICE,\n",
    "            df.loc[current_step - 5: current_step, 'High'].values / MAX_SHARE_PRICE,\n",
    "            df.loc[current_step - 5: current_step, 'Low'].values / MAX_SHARE_PRICE,\n",
    "            df.loc[current_step - 5: current_step, 'Close'].values / MAX_SHARE_PRICE,\n",
    "            df.loc[current_step - 5: current_step, 'Shares Traded'].values / MAX_NUM_SHARES,\n",
    "        ])\n",
    "    frame = expand_dims(frame, axis=0)\n",
    "    trade = model.predict(frame)[0][0]\n",
    "    \n",
    "    if trade == 1:\n",
    "        color = 'green'\n",
    "    if trade == 2:\n",
    "        color = 'red'\n",
    "    \n",
    "    plt.scatter(df.iloc[current_step,0], df.iloc[current_step,4], c=color, s=15)   "
   ]
  },
  {
   "cell_type": "markdown",
   "metadata": {},
   "source": [
    "##### Deep Reinforcement learning is used to predict buy,hold or sell share based on previous days stock prices. Rl.agents has been used with custom neural network"
   ]
  },
  {
   "cell_type": "code",
   "execution_count": 162,
   "metadata": {},
   "outputs": [],
   "source": [
    "MAX_ACCOUNT_BALANCE = 1000000\n",
    "MAX_NUM_SHARES = 1000000000\n",
    "MAX_SHARE_PRICE = 19000\n",
    "# MAX_STEPS = 2000\n",
    "\n",
    "INITIAL_ACCOUNT_BALANCE = 100000\n",
    "\n",
    "\n",
    "class StockTradingEnv(gym.Env):\n",
    "    \"\"\"A stock trading environment for OpenAI gym\"\"\"\n",
    "    metadata = {'render.modes': ['human']}\n",
    "\n",
    "    def __init__(self, df):\n",
    "        super(StockTradingEnv, self).__init__()\n",
    "\n",
    "        self.df = df\n",
    "\n",
    "        # Actions of the format Buy x%, Sell x%, Hold, etc.\n",
    "        self.action_space = spaces.Discrete(3)\n",
    "\n",
    "        # Prices contains the OHCL values for the last five prices\n",
    "        self.observation_space = spaces.Box(\n",
    "            low=0, high=1, shape=(30,), dtype=np.float16)\n",
    "\n",
    "    def _next_observation(self):\n",
    "        # Get the stock data points for the last 5 days and scale to between 0-1\n",
    "        frame = np.array([\n",
    "            self.df.loc[self.current_step - 5: self.current_step, 'Open'].values / MAX_SHARE_PRICE,\n",
    "            self.df.loc[self.current_step - 5: self.current_step, 'High'].values / MAX_SHARE_PRICE,\n",
    "            self.df.loc[self.current_step - 5: self.current_step, 'Low'].values / MAX_SHARE_PRICE,\n",
    "            self.df.loc[self.current_step - 5: self.current_step, 'Close'].values / MAX_SHARE_PRICE,\n",
    "            self.df.loc[self.current_step - 5: self.current_step, 'Shares Traded'].values / MAX_NUM_SHARES,\n",
    "        ])\n",
    "\n",
    "        return frame.reshape(-1)\n",
    "\n",
    "    def _take_action(self, action):\n",
    "        # Set the current price to a random price within the time step\n",
    "        self.current_price = random.uniform(\n",
    "            self.df.loc[self.current_step, \"Open\"], self.df.loc[self.current_step, \"Close\"])\n",
    "\n",
    "        action_type = action\n",
    "        amount = np.random.random()\n",
    "\n",
    "        if action_type == 1:\n",
    "            # Buy amount % of balance in shares\n",
    "            total_possible = int(self.balance / self.current_price)\n",
    "\n",
    "            shares_bought = int(total_possible * amount)\n",
    "            prev_cost = self.cost_basis * self.shares_held\n",
    "            additional_cost = shares_bought * self.current_price\n",
    "\n",
    "            self.balance -= additional_cost\n",
    "\n",
    "            self.cost_basis = (\n",
    "                prev_cost + additional_cost) / (self.shares_held + shares_bought)\n",
    "            self.shares_held += shares_bought\n",
    "\n",
    "        elif action_type == 2:\n",
    "            # Sell amount % of shares held\n",
    "            shares_sold = int(self.shares_held)\n",
    "\n",
    "            self.balance += shares_sold * self.current_price\n",
    "            self.shares_held = 0\n",
    "            self.total_shares_sold += shares_sold\n",
    "            self.total_sales_value += shares_sold * self.current_price\n",
    "\n",
    "        self.net_worth = self.balance + self.shares_held * self.current_price\n",
    "\n",
    "        if self.shares_held == 0:\n",
    "            self.cost_basis = 0\n",
    "\n",
    "    def step(self, action):\n",
    "        # Execute one time step within the environment\n",
    "        self._take_action(action)\n",
    "\n",
    "        # delay_modifier = (self.current_step / MAX_STEPS) # for long term reward\n",
    "        # reward = self.balance * delay_modifier\n",
    "        if action==2:\n",
    "            if self.current_price>self.cost_basis:\n",
    "                reward = 1\n",
    "            else:\n",
    "                reward = -1\n",
    "        else:\n",
    "            reward = 0\n",
    "        \n",
    "        done = False\n",
    "\n",
    "        self.current_step += 1\n",
    "        \n",
    "        if self.shares_held>0:\n",
    "            done = self.net_worth <= 95000\n",
    "        if self.current_step > len(self.df.loc[:, 'Open'].values)-2:\n",
    "            done = True\n",
    "\n",
    "        obs = self._next_observation()\n",
    "\n",
    "        return obs, reward, done, {}\n",
    "\n",
    "    def reset(self):\n",
    "        # Reset the state of the environment to an initial state\n",
    "        self.balance = INITIAL_ACCOUNT_BALANCE\n",
    "        self.net_worth = INITIAL_ACCOUNT_BALANCE\n",
    "        self.shares_held = 0\n",
    "        self.cost_basis = 0\n",
    "        self.total_shares_sold = 0\n",
    "        self.total_sales_value = 0\n",
    "        self.current_price = 0\n",
    "\n",
    "        # Set the current step to a random point within the data frame\n",
    "        self.current_step = random.randint(\n",
    "            6, len(self.df.loc[:, 'Open'].values) - 6)\n",
    "\n",
    "        return self._next_observation()\n",
    "\n",
    "    def render(self, mode='human', close=False):\n",
    "        # Render the environment to the screen\n",
    "        profit = self.net_worth - INITIAL_ACCOUNT_BALANCE\n",
    "\n",
    "        print(f'Step: {self.current_step}')\n",
    "        print(f'Balance: {self.balance}')\n",
    "        print(f'Shares held: {self.shares_held} (Total sold: {self.total_shares_sold})')\n",
    "        print(f'Avg cost for held shares: {self.cost_basis} (Total sales value: {self.total_sales_value})')\n",
    "        print(f'Net worth: {self.net_worth}')\n",
    "        print(f'Profit: {profit}')"
   ]
  },
  {
   "cell_type": "code",
   "execution_count": 163,
   "metadata": {},
   "outputs": [
    {
     "data": {
      "text/plain": [
       "((30,), 3)"
      ]
     },
     "execution_count": 163,
     "metadata": {},
     "output_type": "execute_result"
    }
   ],
   "source": [
    "env = StockTradingEnv(df)\n",
    "states = env.observation_space.shape\n",
    "actions = env.action_space.n\n",
    "states,actions"
   ]
  },
  {
   "cell_type": "code",
   "execution_count": 164,
   "metadata": {},
   "outputs": [
    {
     "name": "stdout",
     "output_type": "stream",
     "text": [
      "Model: \"sequential_1\"\n",
      "_________________________________________________________________\n",
      " Layer (type)                Output Shape              Param #   \n",
      "=================================================================\n",
      " dense_3 (Dense)             (None, 1, 24)             744       \n",
      "                                                                 \n",
      " dense_4 (Dense)             (None, 1, 24)             600       \n",
      "                                                                 \n",
      " flatten_1 (Flatten)         (None, 24)                0         \n",
      "                                                                 \n",
      " dense_5 (Dense)             (None, 3)                 75        \n",
      "                                                                 \n",
      "=================================================================\n",
      "Total params: 1,419\n",
      "Trainable params: 1,419\n",
      "Non-trainable params: 0\n",
      "_________________________________________________________________\n"
     ]
    }
   ],
   "source": [
    "def build_model(states, actions):\n",
    "    model = Sequential()    \n",
    "    model.add(Dense(24, activation='relu', input_shape=(1,states[0])))\n",
    "    model.add(Dense(24, activation='relu'))\n",
    "    model.add(Flatten())\n",
    "    model.add(Dense(actions, activation='linear'))\n",
    "    return model\n",
    "\n",
    "model = build_model(states, actions)\n",
    "model.summary()"
   ]
  },
  {
   "cell_type": "code",
   "execution_count": 165,
   "metadata": {},
   "outputs": [
    {
     "data": {
      "text/plain": [
       "TensorShape([None, 3])"
      ]
     },
     "execution_count": 165,
     "metadata": {},
     "output_type": "execute_result"
    }
   ],
   "source": [
    "model.output.shape"
   ]
  },
  {
   "cell_type": "code",
   "execution_count": 166,
   "metadata": {},
   "outputs": [],
   "source": [
    "def build_agent(model, actions):\n",
    "    policy = BoltzmannQPolicy()\n",
    "    memory = SequentialMemory(limit=10000, window_length=1)\n",
    "    dqn = DQNAgent(model=model, memory=memory, policy=policy, \n",
    "                  nb_actions=actions, nb_steps_warmup=10, target_model_update=1e-2)\n",
    "    return dqn"
   ]
  },
  {
   "cell_type": "code",
   "execution_count": 167,
   "metadata": {},
   "outputs": [
    {
     "name": "stderr",
     "output_type": "stream",
     "text": [
      "c:\\ProgramData\\Anaconda3\\lib\\site-packages\\keras\\optimizers\\optimizer_v2\\adam.py:110: UserWarning: The `lr` argument is deprecated, use `learning_rate` instead.\n",
      "  super(Adam, self).__init__(name, **kwargs)\n"
     ]
    },
    {
     "name": "stdout",
     "output_type": "stream",
     "text": [
      "Training for 10000 steps ...\n",
      "Interval 1 (0 steps performed)\n",
      "    1/10000 [..............................] - ETA: 16:31 - reward: 0.0000e+00"
     ]
    },
    {
     "name": "stderr",
     "output_type": "stream",
     "text": [
      "c:\\ProgramData\\Anaconda3\\lib\\site-packages\\keras\\engine\\training_v1.py:2067: UserWarning: `Model.state_updates` will be removed in a future version. This property should not be used in TensorFlow 2.0, as `updates` are applied automatically.\n",
      "  updates=self.state_updates,\n",
      "C:\\Users\\soumya\\AppData\\Local\\Temp\\ipykernel_13636\\1620360116.py:55: RuntimeWarning: invalid value encountered in double_scalars\n",
      "  self.cost_basis = (\n",
      "c:\\ProgramData\\Anaconda3\\lib\\site-packages\\rl\\memory.py:37: UserWarning: Not enough entries to sample without replacement. Consider increasing your warm-up phase to avoid oversampling!\n",
      "  warnings.warn('Not enough entries to sample without replacement. Consider increasing your warm-up phase to avoid oversampling!')\n"
     ]
    },
    {
     "name": "stdout",
     "output_type": "stream",
     "text": [
      "10000/10000 [==============================] - 106s 11ms/step - reward: 0.5784\n",
      "done, took 105.847 seconds\n"
     ]
    },
    {
     "data": {
      "text/plain": [
       "<keras.callbacks.History at 0x179fdb1ff70>"
      ]
     },
     "execution_count": 167,
     "metadata": {},
     "output_type": "execute_result"
    }
   ],
   "source": [
    "dqn = build_agent(model, actions)\n",
    "dqn.compile(Adam(lr=1e-3), metrics=['mae'])\n",
    "dqn.fit(env, nb_steps=10000, visualize=False, verbose=1)"
   ]
  },
  {
   "cell_type": "code",
   "execution_count": 168,
   "metadata": {},
   "outputs": [
    {
     "name": "stdout",
     "output_type": "stream",
     "text": [
      "Testing for 10 episodes ...\n",
      "Episode 1: reward: 6.000, steps: 6\n",
      "Episode 2: reward: 134.000, steps: 134\n",
      "Episode 3: reward: 39.000, steps: 39\n",
      "Episode 4: reward: 212.000, steps: 212\n",
      "Episode 5: reward: 21.000, steps: 21\n",
      "Episode 6: reward: 40.000, steps: 40\n",
      "Episode 7: reward: 56.000, steps: 56\n",
      "Episode 8: reward: 79.000, steps: 79\n",
      "Episode 9: reward: 112.000, steps: 112\n",
      "Episode 10: reward: 200.000, steps: 200\n",
      "89.9\n"
     ]
    }
   ],
   "source": [
    "results = dqn.test(env, nb_episodes=10, visualize=False)\n",
    "print(np.mean(results.history['episode_reward']))"
   ]
  },
  {
   "cell_type": "code",
   "execution_count": 169,
   "metadata": {},
   "outputs": [
    {
     "data": {
      "text/plain": [
       "array([0.2406 , 0.176  , 0.3596 , 0.7563 , 0.9536 , 0.847  , 0.262  ,\n",
       "       0.2362 , 0.5786 , 0.03018, 0.9165 , 0.998  , 0.4976 , 0.1165 ,\n",
       "       0.8726 , 0.1758 , 0.3452 , 0.3223 , 0.2279 , 0.7563 , 0.7476 ,\n",
       "       0.1586 , 0.8677 , 0.731  , 0.12476, 0.6445 , 0.202  , 0.01718,\n",
       "       0.5215 , 0.2456 ], dtype=float16)"
      ]
     },
     "execution_count": 169,
     "metadata": {},
     "output_type": "execute_result"
    }
   ],
   "source": [
    "env.observation_space.sample()"
   ]
  },
  {
   "cell_type": "code",
   "execution_count": 170,
   "metadata": {},
   "outputs": [
    {
     "data": {
      "text/plain": [
       "2"
      ]
     },
     "execution_count": 170,
     "metadata": {},
     "output_type": "execute_result"
    }
   ],
   "source": [
    "dqn.forward(env.observation_space.sample())"
   ]
  },
  {
   "cell_type": "code",
   "execution_count": 171,
   "metadata": {},
   "outputs": [
    {
     "data": {
      "image/png": "[encoded data removed]",
      "text/plain": [
       "<Figure size 1080x360 with 1 Axes>"
      ]
     },
     "metadata": {
      "needs_background": "light"
     },
     "output_type": "display_data"
    }
   ],
   "source": [
    "plt.figure(figsize=(15,5)) \n",
    "plt.plot(df.iloc[6:df.shape[0]-6,0], df.iloc[6:df.shape[0]-6,4])\n",
    "for i in range (6, df.shape[0]-6):\n",
    "    current_step = i\n",
    "    frame = np.array([\n",
    "            df.loc[current_step - 5: current_step, 'Open'].values / MAX_SHARE_PRICE,\n",
    "            df.loc[current_step - 5: current_step, 'High'].values / MAX_SHARE_PRICE,\n",
    "            df.loc[current_step - 5: current_step, 'Low'].values / MAX_SHARE_PRICE,\n",
    "            df.loc[current_step - 5: current_step, 'Close'].values / MAX_SHARE_PRICE,\n",
    "            df.loc[current_step - 5: current_step, 'Shares Traded'].values / MAX_NUM_SHARES,\n",
    "        ])\n",
    "    frame = frame.reshape(-1)\n",
    "    trade = dqn.forward(frame)\n",
    "    \n",
    "    if trade == 1:\n",
    "        color = 'green'\n",
    "    if trade == 2:\n",
    "        color = 'red'\n",
    "    \n",
    "    plt.scatter(df.iloc[current_step,0], df.iloc[current_step,4], c=color, s=15)   "
   ]
  }
 ],
 "metadata": {
  "interpreter": {
   "hash": "ad2bdc8ecc057115af97d19610ffacc2b4e99fae6737bb82f5d7fb13d2f2c186"
  },
  "kernelspec": {
   "display_name": "Python 3.8.10 ('base')",
   "language": "python",
   "name": "python3"
  },
  "language_info": {
   "codemirror_mode": {
    "name": "ipython",
    "version": 3
   },
   "file_extension": ".py",
   "mimetype": "text/x-python",
   "name": "python",
   "nbconvert_exporter": "python",
   "pygments_lexer": "ipython3",
   "version": "3.9.12"
  },
  "orig_nbformat": 4
 },
 "nbformat": 4,
 "nbformat_minor": 2
}
