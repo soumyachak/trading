{
 "cells": [
  {
   "cell_type": "markdown",
   "metadata": {},
   "source": [
    "##### CNN-LSTM has been used to predict stock price difference from previous day stock price and technical indicators"
   ]
  },
  {
   "cell_type": "code",
   "execution_count": 1,
   "metadata": {},
   "outputs": [],
   "source": [
    "import pandas as pd\n",
    "import numpy as np\n",
    "from sklearn.model_selection import train_test_split\n",
    "from keras.models import Sequential\n",
    "from sklearn import preprocessing\n",
    "import tensorflow as tf\n",
    "from keras.models import Sequential\n",
    "from keras.layers import Conv1D,Bidirectional,LSTM,Dropout,TimeDistributed\n",
    "from keras.layers import Dense\n",
    "from keras.layers import Conv1D,Flatten,MaxPooling1D,Bidirectional,LSTM,Dropout,TimeDistributed,Conv2D,MaxPooling2D\n",
    "import matplotlib.pyplot as plt"
   ]
  },
  {
   "cell_type": "code",
   "execution_count": 2,
   "metadata": {},
   "outputs": [
    {
     "data": {
      "text/html": [
       "<div>\n",
       "<style scoped>\n",
       "    .dataframe tbody tr th:only-of-type {\n",
       "        vertical-align: middle;\n",
       "    }\n",
       "\n",
       "    .dataframe tbody tr th {\n",
       "        vertical-align: top;\n",
       "    }\n",
       "\n",
       "    .dataframe thead th {\n",
       "        text-align: right;\n",
       "    }\n",
       "</style>\n",
       "<table border=\"1\" class=\"dataframe\">\n",
       "  <thead>\n",
       "    <tr style=\"text-align: right;\">\n",
       "      <th></th>\n",
       "      <th>Date</th>\n",
       "      <th>Diff</th>\n",
       "      <th>Close-Open</th>\n",
       "      <th>High-Low</th>\n",
       "      <th>RSI</th>\n",
       "      <th>Close-EMA</th>\n",
       "      <th>MACD-Signal</th>\n",
       "      <th>ADX</th>\n",
       "      <th>CCI</th>\n",
       "      <th>NormATR</th>\n",
       "      <th>Close-BBup</th>\n",
       "      <th>Close-BBmid</th>\n",
       "      <th>Close-BBlow</th>\n",
       "      <th>Diff_t+1</th>\n",
       "    </tr>\n",
       "  </thead>\n",
       "  <tbody>\n",
       "    <tr>\n",
       "      <th>33</th>\n",
       "      <td>2021-06-14</td>\n",
       "      <td>12.50</td>\n",
       "      <td>20.45</td>\n",
       "      <td>216.55</td>\n",
       "      <td>71.283947</td>\n",
       "      <td>220.522137</td>\n",
       "      <td>-11.062793</td>\n",
       "      <td>30.701480</td>\n",
       "      <td>73.768483</td>\n",
       "      <td>1.013346</td>\n",
       "      <td>-58.001894</td>\n",
       "      <td>66.97</td>\n",
       "      <td>191.941894</td>\n",
       "      <td>57.40</td>\n",
       "    </tr>\n",
       "    <tr>\n",
       "      <th>34</th>\n",
       "      <td>2021-06-15</td>\n",
       "      <td>57.40</td>\n",
       "      <td>2.30</td>\n",
       "      <td>59.20</td>\n",
       "      <td>72.757895</td>\n",
       "      <td>240.865852</td>\n",
       "      <td>-10.284952</td>\n",
       "      <td>30.241329</td>\n",
       "      <td>131.489400</td>\n",
       "      <td>0.977958</td>\n",
       "      <td>-60.536263</td>\n",
       "      <td>98.54</td>\n",
       "      <td>257.616263</td>\n",
       "      <td>-101.70</td>\n",
       "    </tr>\n",
       "    <tr>\n",
       "      <th>35</th>\n",
       "      <td>2021-06-16</td>\n",
       "      <td>-101.70</td>\n",
       "      <td>-79.95</td>\n",
       "      <td>138.25</td>\n",
       "      <td>66.267762</td>\n",
       "      <td>120.610405</td>\n",
       "      <td>-18.454491</td>\n",
       "      <td>29.063859</td>\n",
       "      <td>86.183101</td>\n",
       "      <td>0.976589</td>\n",
       "      <td>-118.251497</td>\n",
       "      <td>-29.60</td>\n",
       "      <td>59.051497</td>\n",
       "      <td>-76.15</td>\n",
       "    </tr>\n",
       "    <tr>\n",
       "      <th>36</th>\n",
       "      <td>2021-06-17</td>\n",
       "      <td>-76.15</td>\n",
       "      <td>43.10</td>\n",
       "      <td>152.60</td>\n",
       "      <td>61.821008</td>\n",
       "      <td>38.532351</td>\n",
       "      <td>-30.131212</td>\n",
       "      <td>27.133862</td>\n",
       "      <td>-3.409170</td>\n",
       "      <td>0.980699</td>\n",
       "      <td>-213.266636</td>\n",
       "      <td>-96.48</td>\n",
       "      <td>20.306636</td>\n",
       "      <td>-8.05</td>\n",
       "    </tr>\n",
       "    <tr>\n",
       "      <th>37</th>\n",
       "      <td>2021-06-18</td>\n",
       "      <td>-8.05</td>\n",
       "      <td>-73.15</td>\n",
       "      <td>310.60</td>\n",
       "      <td>61.352321</td>\n",
       "      <td>26.418037</td>\n",
       "      <td>-38.979394</td>\n",
       "      <td>25.979041</td>\n",
       "      <td>-73.215266</td>\n",
       "      <td>1.052577</td>\n",
       "      <td>-223.182481</td>\n",
       "      <td>-81.33</td>\n",
       "      <td>60.522481</td>\n",
       "      <td>63.15</td>\n",
       "    </tr>\n",
       "  </tbody>\n",
       "</table>\n",
       "</div>"
      ],
      "text/plain": [
       "         Date    Diff  Close-Open  High-Low        RSI   Close-EMA  \\\n",
       "33 2021-06-14   12.50       20.45    216.55  71.283947  220.522137   \n",
       "34 2021-06-15   57.40        2.30     59.20  72.757895  240.865852   \n",
       "35 2021-06-16 -101.70      -79.95    138.25  66.267762  120.610405   \n",
       "36 2021-06-17  -76.15       43.10    152.60  61.821008   38.532351   \n",
       "37 2021-06-18   -8.05      -73.15    310.60  61.352321   26.418037   \n",
       "\n",
       "    MACD-Signal        ADX         CCI   NormATR  Close-BBup  Close-BBmid  \\\n",
       "33   -11.062793  30.701480   73.768483  1.013346  -58.001894        66.97   \n",
       "34   -10.284952  30.241329  131.489400  0.977958  -60.536263        98.54   \n",
       "35   -18.454491  29.063859   86.183101  0.976589 -118.251497       -29.60   \n",
       "36   -30.131212  27.133862   -3.409170  0.980699 -213.266636       -96.48   \n",
       "37   -38.979394  25.979041  -73.215266  1.052577 -223.182481       -81.33   \n",
       "\n",
       "    Close-BBlow  Diff_t+1  \n",
       "33   191.941894     57.40  \n",
       "34   257.616263   -101.70  \n",
       "35    59.051497    -76.15  \n",
       "36    20.306636     -8.05  \n",
       "37    60.522481     63.15  "
      ]
     },
     "execution_count": 2,
     "metadata": {},
     "output_type": "execute_result"
    }
   ],
   "source": [
    "df = pd.read_csv('data_model.csv', header=0, parse_dates=[0])\n",
    "stock = df.dropna()\n",
    "stock.head(5)"
   ]
  },
  {
   "cell_type": "code",
   "execution_count": 3,
   "metadata": {},
   "outputs": [
    {
     "data": {
      "text/plain": [
       "<AxesSubplot:>"
      ]
     },
     "execution_count": 3,
     "metadata": {},
     "output_type": "execute_result"
    },
    {
     "data": {
      "image/png": "[encoded data removed]",
      "text/plain": [
       "<Figure size 432x288 with 1 Axes>"
      ]
     },
     "metadata": {
      "needs_background": "light"
     },
     "output_type": "display_data"
    }
   ],
   "source": [
    "stock.iloc[:,-1].hist()"
   ]
  },
  {
   "cell_type": "code",
   "execution_count": 4,
   "metadata": {},
   "outputs": [
    {
     "name": "stderr",
     "output_type": "stream",
     "text": [
      "C:\\Users\\soumya\\AppData\\Local\\Temp\\ipykernel_6648\\1158056819.py:3: SettingWithCopyWarning: \n",
      "A value is trying to be set on a copy of a slice from a DataFrame.\n",
      "Try using .loc[row_indexer,col_indexer] = value instead\n",
      "\n",
      "See the caveats in the documentation: https://pandas.pydata.org/pandas-docs/stable/user_guide/indexing.html#returning-a-view-versus-a-copy\n",
      "  stock.iloc[:,1:-1] = scaled_values\n",
      "C:\\Users\\soumya\\AppData\\Local\\Temp\\ipykernel_6648\\1158056819.py:7: SettingWithCopyWarning: \n",
      "A value is trying to be set on a copy of a slice from a DataFrame.\n",
      "Try using .loc[row_indexer,col_indexer] = value instead\n",
      "\n",
      "See the caveats in the documentation: https://pandas.pydata.org/pandas-docs/stable/user_guide/indexing.html#returning-a-view-versus-a-copy\n",
      "  stock.iloc[:,-1] = scaled_values\n"
     ]
    }
   ],
   "source": [
    "scaler = preprocessing.StandardScaler()\n",
    "scaled_values = scaler.fit_transform(stock.iloc[:,1:-1])\n",
    "stock.iloc[:,1:-1] = scaled_values\n",
    "\n",
    "y_scaler = preprocessing.StandardScaler()\n",
    "scaled_values = y_scaler.fit_transform(np.array(stock.iloc[:,-1]).reshape(-1,1))\n",
    "stock.iloc[:,-1] = scaled_values"
   ]
  },
  {
   "cell_type": "code",
   "execution_count": 5,
   "metadata": {},
   "outputs": [],
   "source": [
    "window_size = 100\n",
    "X = []\n",
    "Y = []\n",
    "date = []\n",
    "\n",
    "for i in range(0 , len(stock) - window_size-1 , 1):\n",
    "    X.append(np.array(stock.iloc[i:i+window_size,1:-1]).reshape(-1,1))\n",
    "    Y.append(np.array(stock.iloc[i+window_size,-2]).reshape(1,1))\n",
    "    date.append(stock.iloc[i+window_size,0])\n",
    "\n",
    "train_X,test_X,train_label,test_label = train_test_split(X, Y, test_size=0.3,shuffle=False)\n",
    "len_t = len(train_X)\n",
    "\n",
    "train_X = np.array(train_X)\n",
    "test_X = np.array(test_X)\n",
    "train_label = np.array(train_label)\n",
    "test_label = np.array(test_label)\n",
    "\n",
    "train_X = train_X.reshape(train_X.shape[0],1,100,12,1)\n",
    "test_X = test_X.reshape(test_X.shape[0],1,100,12,1)\n",
    "\n",
    "_,z = train_test_split(date, test_size=0.3,shuffle=False)\n",
    "testdate = np.array(z)"
   ]
  },
  {
   "cell_type": "code",
   "execution_count": 6,
   "metadata": {},
   "outputs": [
    {
     "name": "stdout",
     "output_type": "stream",
     "text": [
      "Epoch 1/40\n",
      "3/3 [==============================] - 13s 81ms/step - loss: 0.9728 - mse: 0.9728 - mae: 0.7800\n",
      "Epoch 2/40\n",
      "3/3 [==============================] - 0s 94ms/step - loss: 0.9976 - mse: 0.9976 - mae: 0.7859\n",
      "Epoch 3/40\n",
      "3/3 [==============================] - 0s 88ms/step - loss: 0.8913 - mse: 0.8913 - mae: 0.7598\n",
      "Epoch 4/40\n",
      "3/3 [==============================] - 0s 102ms/step - loss: 0.8687 - mse: 0.8687 - mae: 0.7602\n",
      "Epoch 5/40\n",
      "3/3 [==============================] - 0s 95ms/step - loss: 0.7236 - mse: 0.7236 - mae: 0.6905\n",
      "Epoch 6/40\n",
      "3/3 [==============================] - 0s 94ms/step - loss: 0.6467 - mse: 0.6467 - mae: 0.6510\n",
      "Epoch 7/40\n",
      "3/3 [==============================] - 0s 100ms/step - loss: 0.6374 - mse: 0.6374 - mae: 0.6552\n",
      "Epoch 8/40\n",
      "3/3 [==============================] - 0s 100ms/step - loss: 0.5448 - mse: 0.5448 - mae: 0.6053\n",
      "Epoch 9/40\n",
      "3/3 [==============================] - 0s 103ms/step - loss: 0.5153 - mse: 0.5153 - mae: 0.5756\n",
      "Epoch 10/40\n",
      "3/3 [==============================] - 0s 101ms/step - loss: 0.3953 - mse: 0.3953 - mae: 0.5056\n",
      "Epoch 11/40\n",
      "3/3 [==============================] - 0s 101ms/step - loss: 0.3310 - mse: 0.3310 - mae: 0.4727\n",
      "Epoch 12/40\n",
      "3/3 [==============================] - 0s 96ms/step - loss: 0.3330 - mse: 0.3330 - mae: 0.4412\n",
      "Epoch 13/40\n",
      "3/3 [==============================] - 0s 99ms/step - loss: 0.2362 - mse: 0.2362 - mae: 0.3836\n",
      "Epoch 14/40\n",
      "3/3 [==============================] - 0s 103ms/step - loss: 0.2143 - mse: 0.2143 - mae: 0.3571\n",
      "Epoch 15/40\n",
      "3/3 [==============================] - 0s 102ms/step - loss: 0.1654 - mse: 0.1654 - mae: 0.3072\n",
      "Epoch 16/40\n",
      "3/3 [==============================] - 0s 99ms/step - loss: 0.1424 - mse: 0.1424 - mae: 0.3092\n",
      "Epoch 17/40\n",
      "3/3 [==============================] - 0s 92ms/step - loss: 0.1266 - mse: 0.1266 - mae: 0.2842\n",
      "Epoch 18/40\n",
      "3/3 [==============================] - 0s 94ms/step - loss: 0.1832 - mse: 0.1832 - mae: 0.3274\n",
      "Epoch 19/40\n",
      "3/3 [==============================] - 0s 100ms/step - loss: 0.1101 - mse: 0.1101 - mae: 0.2599\n",
      "Epoch 20/40\n",
      "3/3 [==============================] - 0s 96ms/step - loss: 0.1127 - mse: 0.1127 - mae: 0.2628\n",
      "Epoch 21/40\n",
      "3/3 [==============================] - 0s 99ms/step - loss: 0.0958 - mse: 0.0958 - mae: 0.2419\n",
      "Epoch 22/40\n",
      "3/3 [==============================] - 0s 97ms/step - loss: 0.1011 - mse: 0.1011 - mae: 0.2483\n",
      "Epoch 23/40\n",
      "3/3 [==============================] - 0s 97ms/step - loss: 0.0895 - mse: 0.0895 - mae: 0.2321\n",
      "Epoch 24/40\n",
      "3/3 [==============================] - 0s 99ms/step - loss: 0.0871 - mse: 0.0871 - mae: 0.2255\n",
      "Epoch 25/40\n",
      "3/3 [==============================] - 0s 102ms/step - loss: 0.0867 - mse: 0.0867 - mae: 0.2358\n",
      "Epoch 26/40\n",
      "3/3 [==============================] - 0s 96ms/step - loss: 0.0662 - mse: 0.0662 - mae: 0.1989\n",
      "Epoch 27/40\n",
      "3/3 [==============================] - 0s 102ms/step - loss: 0.0640 - mse: 0.0640 - mae: 0.1902\n",
      "Epoch 28/40\n",
      "3/3 [==============================] - 0s 95ms/step - loss: 0.0842 - mse: 0.0842 - mae: 0.2248\n",
      "Epoch 29/40\n",
      "3/3 [==============================] - 0s 92ms/step - loss: 0.0488 - mse: 0.0488 - mae: 0.1689\n",
      "Epoch 30/40\n",
      "3/3 [==============================] - 0s 97ms/step - loss: 0.0696 - mse: 0.0696 - mae: 0.2137\n",
      "Epoch 31/40\n",
      "3/3 [==============================] - 0s 97ms/step - loss: 0.0734 - mse: 0.0734 - mae: 0.2125\n",
      "Epoch 32/40\n",
      "3/3 [==============================] - 0s 100ms/step - loss: 0.0792 - mse: 0.0792 - mae: 0.2191\n",
      "Epoch 33/40\n",
      "3/3 [==============================] - 0s 99ms/step - loss: 0.1005 - mse: 0.1005 - mae: 0.2316\n",
      "Epoch 34/40\n",
      "3/3 [==============================] - 0s 100ms/step - loss: 0.0797 - mse: 0.0797 - mae: 0.2182\n",
      "Epoch 35/40\n",
      "3/3 [==============================] - 0s 115ms/step - loss: 0.0690 - mse: 0.0690 - mae: 0.1982\n",
      "Epoch 36/40\n",
      "3/3 [==============================] - 0s 96ms/step - loss: 0.0686 - mse: 0.0686 - mae: 0.2019\n",
      "Epoch 37/40\n",
      "3/3 [==============================] - 0s 101ms/step - loss: 0.0549 - mse: 0.0549 - mae: 0.1697\n",
      "Epoch 38/40\n",
      "3/3 [==============================] - 0s 100ms/step - loss: 0.0374 - mse: 0.0374 - mae: 0.1592\n",
      "Epoch 39/40\n",
      "3/3 [==============================] - 0s 104ms/step - loss: 0.0354 - mse: 0.0354 - mae: 0.1582\n",
      "Epoch 40/40\n",
      "3/3 [==============================] - 0s 100ms/step - loss: 0.0400 - mse: 0.0400 - mae: 0.1500\n"
     ]
    },
    {
     "data": {
      "text/plain": [
       "<keras.callbacks.History at 0x1fdafa54e50>"
      ]
     },
     "execution_count": 6,
     "metadata": {},
     "output_type": "execute_result"
    }
   ],
   "source": [
    "model = Sequential()\n",
    "model.add(TimeDistributed(Conv2D(64, kernel_size=(2,2), activation='relu', input_shape=(1,100, 12, 1), padding='same')))\n",
    "model.add(TimeDistributed(MaxPooling2D(2,2)))\n",
    "model.add(TimeDistributed(Conv2D(128, kernel_size=(2,2), activation='relu', padding='same')))\n",
    "model.add(TimeDistributed(MaxPooling2D(2,2)))\n",
    "model.add(TimeDistributed(Conv2D(64, kernel_size=(2,2), activation='relu', padding='same')))\n",
    "model.add(TimeDistributed(Flatten()))\n",
    "\n",
    "model.add(Bidirectional(LSTM(100, return_sequences=True)))\n",
    "model.add(Dropout(0.5))\n",
    "model.add(Bidirectional(LSTM(100, return_sequences=False)))\n",
    "model.add(Dropout(0.5))\n",
    "\n",
    "model.add(Dense(1, activation='linear'))\n",
    "\n",
    "# model.build((None,1, 100, 4, 1))\n",
    "# print(model.summary())\n",
    "model.compile(optimizer='adam', loss='mse', metrics=['mse', 'mae'])\n",
    "\n",
    "model.fit(train_X, train_label, epochs=40, verbose=1)"
   ]
  },
  {
   "cell_type": "code",
   "execution_count": 7,
   "metadata": {},
   "outputs": [
    {
     "name": "stdout",
     "output_type": "stream",
     "text": [
      "2/2 [==============================] - 3s 6ms/step\n"
     ]
    },
    {
     "data": {
      "image/png": "[encoded data removed]",
      "text/plain": [
       "<Figure size 432x288 with 1 Axes>"
      ]
     },
     "metadata": {
      "needs_background": "light"
     },
     "output_type": "display_data"
    }
   ],
   "source": [
    "predicted  = model.predict(test_X)\n",
    "test_label[:,0] = y_scaler.inverse_transform(test_label[:,0])\n",
    "predicted = np.array(predicted[:,0]).reshape(-1,1)\n",
    "predicted = y_scaler.inverse_transform(predicted)\n",
    "\n",
    "plt.plot(testdate, test_label[:,0], color = 'black', label = ' Stock Price')\n",
    "plt.plot(testdate, predicted, color = 'green', label = 'Predicted  Stock Price')\n",
    "plt.show()"
   ]
  },
  {
   "cell_type": "markdown",
   "metadata": {},
   "source": [
    "##### CNN-LSTM has been used to predict stock price from previous day stock price and normalizing the data based on window intial value"
   ]
  },
  {
   "cell_type": "code",
   "execution_count": 8,
   "metadata": {},
   "outputs": [
    {
     "data": {
      "text/html": [
       "<div>\n",
       "<style scoped>\n",
       "    .dataframe tbody tr th:only-of-type {\n",
       "        vertical-align: middle;\n",
       "    }\n",
       "\n",
       "    .dataframe tbody tr th {\n",
       "        vertical-align: top;\n",
       "    }\n",
       "\n",
       "    .dataframe thead th {\n",
       "        text-align: right;\n",
       "    }\n",
       "</style>\n",
       "<table border=\"1\" class=\"dataframe\">\n",
       "  <thead>\n",
       "    <tr style=\"text-align: right;\">\n",
       "      <th></th>\n",
       "      <th>Date</th>\n",
       "      <th>Open</th>\n",
       "      <th>High</th>\n",
       "      <th>Low</th>\n",
       "      <th>Close</th>\n",
       "      <th>Shares Traded</th>\n",
       "    </tr>\n",
       "  </thead>\n",
       "  <tbody>\n",
       "    <tr>\n",
       "      <th>0</th>\n",
       "      <td>2021-04-27</td>\n",
       "      <td>14493.80</td>\n",
       "      <td>14667.55</td>\n",
       "      <td>14484.85</td>\n",
       "      <td>14653.05</td>\n",
       "      <td>442211685</td>\n",
       "    </tr>\n",
       "    <tr>\n",
       "      <th>1</th>\n",
       "      <td>2021-04-28</td>\n",
       "      <td>14710.50</td>\n",
       "      <td>14890.25</td>\n",
       "      <td>14694.95</td>\n",
       "      <td>14864.55</td>\n",
       "      <td>453990807</td>\n",
       "    </tr>\n",
       "    <tr>\n",
       "      <th>2</th>\n",
       "      <td>2021-04-29</td>\n",
       "      <td>14979.00</td>\n",
       "      <td>15044.35</td>\n",
       "      <td>14814.45</td>\n",
       "      <td>14894.90</td>\n",
       "      <td>511466673</td>\n",
       "    </tr>\n",
       "    <tr>\n",
       "      <th>3</th>\n",
       "      <td>2021-04-30</td>\n",
       "      <td>14747.35</td>\n",
       "      <td>14855.45</td>\n",
       "      <td>14601.70</td>\n",
       "      <td>14631.10</td>\n",
       "      <td>594744498</td>\n",
       "    </tr>\n",
       "    <tr>\n",
       "      <th>4</th>\n",
       "      <td>2021-05-03</td>\n",
       "      <td>14481.05</td>\n",
       "      <td>14673.85</td>\n",
       "      <td>14416.25</td>\n",
       "      <td>14634.15</td>\n",
       "      <td>443410846</td>\n",
       "    </tr>\n",
       "  </tbody>\n",
       "</table>\n",
       "</div>"
      ],
      "text/plain": [
       "        Date      Open      High       Low     Close  Shares Traded\n",
       "0 2021-04-27  14493.80  14667.55  14484.85  14653.05      442211685\n",
       "1 2021-04-28  14710.50  14890.25  14694.95  14864.55      453990807\n",
       "2 2021-04-29  14979.00  15044.35  14814.45  14894.90      511466673\n",
       "3 2021-04-30  14747.35  14855.45  14601.70  14631.10      594744498\n",
       "4 2021-05-03  14481.05  14673.85  14416.25  14634.15      443410846"
      ]
     },
     "execution_count": 8,
     "metadata": {},
     "output_type": "execute_result"
    }
   ],
   "source": [
    "df = pd.read_csv('data.csv', header=0, parse_dates=[0])\n",
    "data = df.dropna()\n",
    "data.head(5)"
   ]
  },
  {
   "cell_type": "code",
   "execution_count": 9,
   "metadata": {},
   "outputs": [
    {
     "name": "stdout",
     "output_type": "stream",
     "text": [
      "102\n",
      "44\n"
     ]
    }
   ],
   "source": [
    "X = []\n",
    "Y = []\n",
    "df = data\n",
    "window_size=100\n",
    "for i in range(1 , len(df) - window_size -1 , 1):\n",
    "    first = df.iloc[i,4]\n",
    "    temp = []\n",
    "    temp2 = []\n",
    "    for j in range(window_size):\n",
    "        temp.append((df.iloc[i + j, 4] - first) / first)\n",
    "    temp2.append((df.iloc[i + window_size, 4] - first) / first)\n",
    "    X.append(np.array(temp).reshape(100, 1))\n",
    "    Y.append(np.array(temp2).reshape(1, 1))\n",
    "\n",
    "x_train, x_test, y_train, y_test = train_test_split(X, Y, test_size=0.3, shuffle=False)\n",
    "\n",
    "train_X = np.array(x_train)\n",
    "test_X = np.array(x_test)\n",
    "train_Y = np.array(y_train)\n",
    "test_Y = np.array(y_test)\n",
    "\n",
    "train_X = train_X.reshape(train_X.shape[0],1,100,1)\n",
    "test_X = test_X.reshape(test_X.shape[0],1,100,1)\n",
    "\n",
    "print(len(train_X))\n",
    "print(len(test_X))"
   ]
  },
  {
   "cell_type": "code",
   "execution_count": 10,
   "metadata": {},
   "outputs": [
    {
     "name": "stdout",
     "output_type": "stream",
     "text": [
      "Epoch 1/40\n",
      "3/3 [==============================] - 14s 23ms/step - loss: 0.0145 - mse: 0.0145 - mae: 0.1040\n",
      "Epoch 2/40\n",
      "3/3 [==============================] - 0s 34ms/step - loss: 0.0089 - mse: 0.0089 - mae: 0.0790\n",
      "Epoch 3/40\n",
      "3/3 [==============================] - 0s 34ms/step - loss: 0.0039 - mse: 0.0039 - mae: 0.0513\n",
      "Epoch 4/40\n",
      "3/3 [==============================] - 0s 29ms/step - loss: 0.0049 - mse: 0.0049 - mae: 0.0602\n",
      "Epoch 5/40\n",
      "3/3 [==============================] - 0s 32ms/step - loss: 0.0039 - mse: 0.0039 - mae: 0.0525\n",
      "Epoch 6/40\n",
      "3/3 [==============================] - 0s 31ms/step - loss: 0.0040 - mse: 0.0040 - mae: 0.0509\n",
      "Epoch 7/40\n",
      "3/3 [==============================] - 0s 37ms/step - loss: 0.0034 - mse: 0.0034 - mae: 0.0477\n",
      "Epoch 8/40\n",
      "3/3 [==============================] - 0s 35ms/step - loss: 0.0028 - mse: 0.0028 - mae: 0.0449\n",
      "Epoch 9/40\n",
      "3/3 [==============================] - 0s 42ms/step - loss: 0.0026 - mse: 0.0026 - mae: 0.0448\n",
      "Epoch 10/40\n",
      "3/3 [==============================] - 0s 44ms/step - loss: 0.0023 - mse: 0.0023 - mae: 0.0405\n",
      "Epoch 11/40\n",
      "3/3 [==============================] - 0s 33ms/step - loss: 0.0022 - mse: 0.0022 - mae: 0.0389\n",
      "Epoch 12/40\n",
      "3/3 [==============================] - 0s 37ms/step - loss: 0.0019 - mse: 0.0019 - mae: 0.0359\n",
      "Epoch 13/40\n",
      "3/3 [==============================] - 0s 36ms/step - loss: 0.0016 - mse: 0.0016 - mae: 0.0332\n",
      "Epoch 14/40\n",
      "3/3 [==============================] - 0s 33ms/step - loss: 0.0014 - mse: 0.0014 - mae: 0.0308\n",
      "Epoch 15/40\n",
      "3/3 [==============================] - 0s 36ms/step - loss: 0.0013 - mse: 0.0013 - mae: 0.0294\n",
      "Epoch 16/40\n",
      "3/3 [==============================] - 0s 36ms/step - loss: 0.0012 - mse: 0.0012 - mae: 0.0275\n",
      "Epoch 17/40\n",
      "3/3 [==============================] - 0s 40ms/step - loss: 0.0010 - mse: 0.0010 - mae: 0.0254  \n",
      "Epoch 18/40\n",
      "3/3 [==============================] - 0s 35ms/step - loss: 0.0010 - mse: 0.0010 - mae: 0.0266  \n",
      "Epoch 19/40\n",
      "3/3 [==============================] - 0s 32ms/step - loss: 6.2833e-04 - mse: 6.2833e-04 - mae: 0.0206\n",
      "Epoch 20/40\n",
      "3/3 [==============================] - 0s 35ms/step - loss: 7.7818e-04 - mse: 7.7818e-04 - mae: 0.0224\n",
      "Epoch 21/40\n",
      "3/3 [==============================] - 0s 35ms/step - loss: 6.2743e-04 - mse: 6.2743e-04 - mae: 0.0198\n",
      "Epoch 22/40\n",
      "3/3 [==============================] - 0s 39ms/step - loss: 5.2428e-04 - mse: 5.2428e-04 - mae: 0.0184\n",
      "Epoch 23/40\n",
      "3/3 [==============================] - 0s 44ms/step - loss: 6.2504e-04 - mse: 6.2504e-04 - mae: 0.0201\n",
      "Epoch 24/40\n",
      "3/3 [==============================] - 0s 31ms/step - loss: 3.9334e-04 - mse: 3.9334e-04 - mae: 0.0165\n",
      "Epoch 25/40\n",
      "3/3 [==============================] - 0s 33ms/step - loss: 4.9511e-04 - mse: 4.9511e-04 - mae: 0.0175\n",
      "Epoch 26/40\n",
      "3/3 [==============================] - 0s 35ms/step - loss: 4.2650e-04 - mse: 4.2650e-04 - mae: 0.0164\n",
      "Epoch 27/40\n",
      "3/3 [==============================] - 0s 54ms/step - loss: 4.4961e-04 - mse: 4.4961e-04 - mae: 0.0175\n",
      "Epoch 28/40\n",
      "3/3 [==============================] - 0s 32ms/step - loss: 3.8856e-04 - mse: 3.8856e-04 - mae: 0.0160\n",
      "Epoch 29/40\n",
      "3/3 [==============================] - 0s 31ms/step - loss: 3.9930e-04 - mse: 3.9930e-04 - mae: 0.0156\n",
      "Epoch 30/40\n",
      "3/3 [==============================] - 0s 39ms/step - loss: 4.3473e-04 - mse: 4.3473e-04 - mae: 0.0172\n",
      "Epoch 31/40\n",
      "3/3 [==============================] - 0s 29ms/step - loss: 3.8738e-04 - mse: 3.8738e-04 - mae: 0.0160\n",
      "Epoch 32/40\n",
      "3/3 [==============================] - 0s 35ms/step - loss: 5.2329e-04 - mse: 5.2329e-04 - mae: 0.0182\n",
      "Epoch 33/40\n",
      "3/3 [==============================] - 0s 39ms/step - loss: 3.9840e-04 - mse: 3.9840e-04 - mae: 0.0150\n",
      "Epoch 34/40\n",
      "3/3 [==============================] - 0s 28ms/step - loss: 4.2316e-04 - mse: 4.2316e-04 - mae: 0.0161\n",
      "Epoch 35/40\n",
      "3/3 [==============================] - 0s 37ms/step - loss: 3.5942e-04 - mse: 3.5942e-04 - mae: 0.0147\n",
      "Epoch 36/40\n",
      "3/3 [==============================] - 0s 27ms/step - loss: 4.5003e-04 - mse: 4.5003e-04 - mae: 0.0171\n",
      "Epoch 37/40\n",
      "3/3 [==============================] - 0s 38ms/step - loss: 3.0673e-04 - mse: 3.0673e-04 - mae: 0.0141\n",
      "Epoch 38/40\n",
      "3/3 [==============================] - 0s 31ms/step - loss: 3.1312e-04 - mse: 3.1312e-04 - mae: 0.0144\n",
      "Epoch 39/40\n",
      "3/3 [==============================] - 0s 32ms/step - loss: 3.1685e-04 - mse: 3.1685e-04 - mae: 0.0138\n",
      "Epoch 40/40\n",
      "3/3 [==============================] - 0s 28ms/step - loss: 2.9150e-04 - mse: 2.9150e-04 - mae: 0.0139\n"
     ]
    }
   ],
   "source": [
    "model = tf.keras.Sequential()\n",
    "\n",
    "model.add(TimeDistributed(Conv1D(64, kernel_size=3, activation='relu', input_shape=(None, 100, 1))))\n",
    "model.add(TimeDistributed(MaxPooling1D(2)))\n",
    "model.add(TimeDistributed(Conv1D(128, kernel_size=3, activation='relu')))\n",
    "model.add(TimeDistributed(MaxPooling1D(2)))\n",
    "model.add(TimeDistributed(Conv1D(64, kernel_size=3, activation='relu')))\n",
    "model.add(TimeDistributed(MaxPooling1D(2)))\n",
    "model.add(TimeDistributed(Flatten()))\n",
    "\n",
    "model.add(Bidirectional(LSTM(100, return_sequences=True)))\n",
    "model.add(Dropout(0.5))\n",
    "model.add(Bidirectional(LSTM(100, return_sequences=False)))\n",
    "model.add(Dropout(0.5))\n",
    "\n",
    "model.add(Dense(1, activation='linear'))\n",
    "model.compile(optimizer='adam', loss='mse', metrics=['mse', 'mae'])\n",
    "\n",
    "history = model.fit(train_X, train_Y, epochs=40,batch_size=40, verbose=1)"
   ]
  },
  {
   "cell_type": "code",
   "execution_count": 11,
   "metadata": {},
   "outputs": [
    {
     "data": {
      "text/plain": [
       "<matplotlib.legend.Legend at 0x1fdbd448730>"
      ]
     },
     "execution_count": 11,
     "metadata": {},
     "output_type": "execute_result"
    },
    {
     "data": {
      "image/png": "[encoded data removed]",
      "text/plain": [
       "<Figure size 432x288 with 1 Axes>"
      ]
     },
     "metadata": {
      "needs_background": "light"
     },
     "output_type": "display_data"
    }
   ],
   "source": [
    "plt.plot(history.history['loss'], label='train loss')\n",
    "plt.xlabel(\"epoch\")\n",
    "plt.ylabel(\"Loss\")\n",
    "plt.legend()"
   ]
  },
  {
   "cell_type": "code",
   "execution_count": 12,
   "metadata": {},
   "outputs": [
    {
     "name": "stdout",
     "output_type": "stream",
     "text": [
      "2/2 [==============================] - 3s 6ms/step\n"
     ]
    },
    {
     "data": {
      "text/plain": [
       "[<matplotlib.lines.Line2D at 0x1fdbd711f10>]"
      ]
     },
     "execution_count": 12,
     "metadata": {},
     "output_type": "execute_result"
    },
    {
     "data": {
      "image/png": "[encoded data removed]",
      "text/plain": [
       "<Figure size 432x288 with 1 Axes>"
      ]
     },
     "metadata": {
      "needs_background": "light"
     },
     "output_type": "display_data"
    }
   ],
   "source": [
    "predicted  = model.predict(test_X)\n",
    "plt.plot(predicted)\n",
    "plt.plot(test_Y.reshape(-1))"
   ]
  },
  {
   "cell_type": "code",
   "execution_count": 13,
   "metadata": {},
   "outputs": [
    {
     "data": {
      "image/png": "[encoded data removed]",
      "text/plain": [
       "<Figure size 432x288 with 1 Axes>"
      ]
     },
     "metadata": {
      "needs_background": "light"
     },
     "output_type": "display_data"
    }
   ],
   "source": [
    "test_label = test_Y.reshape(-1,1)\n",
    "predicted = np.array(predicted[:,0]).reshape(-1,1)\n",
    "len_t = len(train_X)\n",
    "for j in range(len_t , len_t + len(test_X)):\n",
    "    temp = data.iloc[j - window_size,4]\n",
    "    test_label[j - len_t] = test_label[j - len_t] * temp + temp\n",
    "    predicted[j - len_t] = predicted[j - len_t] * temp + temp\n",
    "plt.plot(predicted, color = 'green', label = 'Predicted  Stock Price')\n",
    "plt.plot(test_label, color = 'red', label = 'Real Stock Price')\n",
    "plt.title(' Stock Price Prediction')\n",
    "plt.xlabel('Time')\n",
    "plt.ylabel(' Stock Price')\n",
    "plt.legend()\n",
    "plt.show()"
   ]
  }
 ],
 "metadata": {
  "interpreter": {
   "hash": "ad2bdc8ecc057115af97d19610ffacc2b4e99fae6737bb82f5d7fb13d2f2c186"
  },
  "kernelspec": {
   "display_name": "Python 3.9.12 ('base')",
   "language": "python",
   "name": "python3"
  },
  "language_info": {
   "codemirror_mode": {
    "name": "ipython",
    "version": 3
   },
   "file_extension": ".py",
   "mimetype": "text/x-python",
   "name": "python",
   "nbconvert_exporter": "python",
   "pygments_lexer": "ipython3",
   "version": "3.9.12"
  },
  "orig_nbformat": 4
 },
 "nbformat": 4,
 "nbformat_minor": 2
}
