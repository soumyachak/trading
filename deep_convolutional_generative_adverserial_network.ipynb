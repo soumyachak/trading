{
 "cells": [
  {
   "cell_type": "markdown",
   "metadata": {},
   "source": [
    "##### Deep Convolution Generative Adversarial Network to stock price difference using previous trading day data and technical indicators. The output of the Generative model is the next day stock price difference data which is appended to last 3 trading days difference and is then fed to the Discriminator model."
   ]
  },
  {
   "cell_type": "code",
   "execution_count": 71,
   "metadata": {},
   "outputs": [],
   "source": [
    "import numpy as np\n",
    "import pandas as pd\n",
    "from sklearn.preprocessing import MinMaxScaler\n",
    "import tensorflow as tf\n",
    "from tensorflow.keras.layers import Dense, Flatten, LeakyReLU, LSTM, Conv1D \n",
    "from tensorflow.keras import Sequential\n",
    "import matplotlib.pyplot as plt"
   ]
  },
  {
   "cell_type": "code",
   "execution_count": 72,
   "metadata": {},
   "outputs": [
    {
     "data": {
      "text/html": [
       "<div>\n",
       "<style scoped>\n",
       "    .dataframe tbody tr th:only-of-type {\n",
       "        vertical-align: middle;\n",
       "    }\n",
       "\n",
       "    .dataframe tbody tr th {\n",
       "        vertical-align: top;\n",
       "    }\n",
       "\n",
       "    .dataframe thead th {\n",
       "        text-align: right;\n",
       "    }\n",
       "</style>\n",
       "<table border=\"1\" class=\"dataframe\">\n",
       "  <thead>\n",
       "    <tr style=\"text-align: right;\">\n",
       "      <th></th>\n",
       "      <th>Date</th>\n",
       "      <th>Diff</th>\n",
       "      <th>Close-Open</th>\n",
       "      <th>High-Low</th>\n",
       "      <th>RSI</th>\n",
       "      <th>Close-EMA</th>\n",
       "      <th>MACD-Signal</th>\n",
       "      <th>ADX</th>\n",
       "      <th>CCI</th>\n",
       "      <th>NormATR</th>\n",
       "      <th>Close-BBup</th>\n",
       "      <th>Close-BBmid</th>\n",
       "      <th>Close-BBlow</th>\n",
       "      <th>Diff_t+1</th>\n",
       "    </tr>\n",
       "  </thead>\n",
       "  <tbody>\n",
       "    <tr>\n",
       "      <th>33</th>\n",
       "      <td>2021-06-14</td>\n",
       "      <td>12.50</td>\n",
       "      <td>20.45</td>\n",
       "      <td>216.55</td>\n",
       "      <td>71.283947</td>\n",
       "      <td>220.522137</td>\n",
       "      <td>-11.062793</td>\n",
       "      <td>30.701480</td>\n",
       "      <td>73.768483</td>\n",
       "      <td>1.013346</td>\n",
       "      <td>-58.001894</td>\n",
       "      <td>66.97</td>\n",
       "      <td>191.941894</td>\n",
       "      <td>57.40</td>\n",
       "    </tr>\n",
       "    <tr>\n",
       "      <th>34</th>\n",
       "      <td>2021-06-15</td>\n",
       "      <td>57.40</td>\n",
       "      <td>2.30</td>\n",
       "      <td>59.20</td>\n",
       "      <td>72.757895</td>\n",
       "      <td>240.865852</td>\n",
       "      <td>-10.284952</td>\n",
       "      <td>30.241329</td>\n",
       "      <td>131.489400</td>\n",
       "      <td>0.977958</td>\n",
       "      <td>-60.536263</td>\n",
       "      <td>98.54</td>\n",
       "      <td>257.616263</td>\n",
       "      <td>-101.70</td>\n",
       "    </tr>\n",
       "    <tr>\n",
       "      <th>35</th>\n",
       "      <td>2021-06-16</td>\n",
       "      <td>-101.70</td>\n",
       "      <td>-79.95</td>\n",
       "      <td>138.25</td>\n",
       "      <td>66.267762</td>\n",
       "      <td>120.610405</td>\n",
       "      <td>-18.454491</td>\n",
       "      <td>29.063859</td>\n",
       "      <td>86.183101</td>\n",
       "      <td>0.976589</td>\n",
       "      <td>-118.251497</td>\n",
       "      <td>-29.60</td>\n",
       "      <td>59.051497</td>\n",
       "      <td>-76.15</td>\n",
       "    </tr>\n",
       "    <tr>\n",
       "      <th>36</th>\n",
       "      <td>2021-06-17</td>\n",
       "      <td>-76.15</td>\n",
       "      <td>43.10</td>\n",
       "      <td>152.60</td>\n",
       "      <td>61.821008</td>\n",
       "      <td>38.532351</td>\n",
       "      <td>-30.131212</td>\n",
       "      <td>27.133862</td>\n",
       "      <td>-3.409170</td>\n",
       "      <td>0.980699</td>\n",
       "      <td>-213.266636</td>\n",
       "      <td>-96.48</td>\n",
       "      <td>20.306636</td>\n",
       "      <td>-8.05</td>\n",
       "    </tr>\n",
       "    <tr>\n",
       "      <th>37</th>\n",
       "      <td>2021-06-18</td>\n",
       "      <td>-8.05</td>\n",
       "      <td>-73.15</td>\n",
       "      <td>310.60</td>\n",
       "      <td>61.352321</td>\n",
       "      <td>26.418037</td>\n",
       "      <td>-38.979394</td>\n",
       "      <td>25.979041</td>\n",
       "      <td>-73.215266</td>\n",
       "      <td>1.052577</td>\n",
       "      <td>-223.182481</td>\n",
       "      <td>-81.33</td>\n",
       "      <td>60.522481</td>\n",
       "      <td>63.15</td>\n",
       "    </tr>\n",
       "  </tbody>\n",
       "</table>\n",
       "</div>"
      ],
      "text/plain": [
       "         Date    Diff  Close-Open  High-Low        RSI   Close-EMA  \\\n",
       "33 2021-06-14   12.50       20.45    216.55  71.283947  220.522137   \n",
       "34 2021-06-15   57.40        2.30     59.20  72.757895  240.865852   \n",
       "35 2021-06-16 -101.70      -79.95    138.25  66.267762  120.610405   \n",
       "36 2021-06-17  -76.15       43.10    152.60  61.821008   38.532351   \n",
       "37 2021-06-18   -8.05      -73.15    310.60  61.352321   26.418037   \n",
       "\n",
       "    MACD-Signal        ADX         CCI   NormATR  Close-BBup  Close-BBmid  \\\n",
       "33   -11.062793  30.701480   73.768483  1.013346  -58.001894        66.97   \n",
       "34   -10.284952  30.241329  131.489400  0.977958  -60.536263        98.54   \n",
       "35   -18.454491  29.063859   86.183101  0.976589 -118.251497       -29.60   \n",
       "36   -30.131212  27.133862   -3.409170  0.980699 -213.266636       -96.48   \n",
       "37   -38.979394  25.979041  -73.215266  1.052577 -223.182481       -81.33   \n",
       "\n",
       "    Close-BBlow  Diff_t+1  \n",
       "33   191.941894     57.40  \n",
       "34   257.616263   -101.70  \n",
       "35    59.051497    -76.15  \n",
       "36    20.306636     -8.05  \n",
       "37    60.522481     63.15  "
      ]
     },
     "execution_count": 72,
     "metadata": {},
     "output_type": "execute_result"
    }
   ],
   "source": [
    "df = pd.read_csv('data_model.csv', header=0, parse_dates=[0])\n",
    "df_cleaned = df.dropna()\n",
    "df_cleaned.head(5)"
   ]
  },
  {
   "cell_type": "code",
   "execution_count": 73,
   "metadata": {},
   "outputs": [],
   "source": [
    "n_steps_in = 4\n",
    "n_features = df_cleaned.shape[1]\n",
    "n_steps_out = 1\n",
    "\n",
    "def get_X_y(X_data, y_data):\n",
    "    X = list()\n",
    "    y = list()\n",
    "    yc = list()\n",
    "\n",
    "    length = X_data.shape[0]\n",
    "    for i in range(length-3):\n",
    "        X_value = X_data[i: i + n_steps_in][:, :]\n",
    "        y_value = y_data[i + n_steps_in - 1]\n",
    "        yc_value = y_data[i: i + n_steps_in - 1]\n",
    "        if X_value.shape[0] == 4:\n",
    "            X.append(X_value)\n",
    "            y.append(y_value)\n",
    "            yc.append(yc_value)\n",
    "\n",
    "    return np.array(X), np.array(y), np.array(yc)"
   ]
  },
  {
   "cell_type": "code",
   "execution_count": 74,
   "metadata": {},
   "outputs": [],
   "source": [
    "sc_X = MinMaxScaler()\n",
    "sc_y = MinMaxScaler()\n",
    "\n",
    "# X_scale_dataset = sc_X.fit_transform(df_cleaned.iloc[:,1:-1])\n",
    "# y_scale_dataset = sc_y.fit_transform(df_cleaned.iloc[:,-1].to_numpy().reshape(-1,1))\n",
    "X_scale_dataset = df_cleaned.iloc[:,1:-1].to_numpy()\n",
    "y_scale_dataset = df_cleaned.iloc[:,-1].to_numpy()\n",
    "\n",
    "X, y, yc = get_X_y(X_scale_dataset, y_scale_dataset.reshape(-1))"
   ]
  },
  {
   "cell_type": "code",
   "execution_count": 75,
   "metadata": {},
   "outputs": [
    {
     "name": "stdout",
     "output_type": "stream",
     "text": [
      "(211, 4, 12)\n",
      "(211,)\n",
      "(211, 3)\n"
     ]
    }
   ],
   "source": [
    "print(X.shape)\n",
    "print(y.shape)\n",
    "print(yc.shape)"
   ]
  },
  {
   "cell_type": "code",
   "execution_count": 76,
   "metadata": {},
   "outputs": [],
   "source": [
    "X_train = X[:150,:,:]\n",
    "X_test = X[150:,:,:]\n",
    "y_train = y[:150]\n",
    "y_test = y[150:]\n",
    "yc_train = yc[:150,:]\n",
    "yc_test = yc[150:,:]"
   ]
  },
  {
   "cell_type": "code",
   "execution_count": 77,
   "metadata": {},
   "outputs": [],
   "source": [
    "def make_generator_model(input_dim, output_dim, feature_size):\n",
    "\n",
    "    model = Sequential()\n",
    "    model.add(LSTM(units=96, return_sequences = True, input_shape=(input_dim, feature_size),\n",
    "                  recurrent_dropout=0.2))\n",
    "    model.add(LSTM(units=48, recurrent_dropout=0.2))\n",
    "    model.add(Dense(128))\n",
    "    model.add(Dense(64))\n",
    "    model.add(Dense(units=output_dim))\n",
    "    return model\n",
    "\n",
    "def make_discriminator_model():\n",
    "\n",
    "    cnn_net = tf.keras.Sequential()\n",
    "    cnn_net.add(Conv1D(32, input_shape=(4, 1), kernel_size=3, strides=2, padding='same', activation=LeakyReLU(alpha=0.01)))\n",
    "    cnn_net.add(Conv1D(64, kernel_size=5, strides=2, padding='same', activation=LeakyReLU(alpha=0.01)))\n",
    "    cnn_net.add(Conv1D(128, kernel_size=5, strides=2, padding='same', activation=LeakyReLU(alpha=0.01)))\n",
    "    cnn_net.add(Flatten())\n",
    "    cnn_net.add(Dense(220, use_bias=False))\n",
    "    cnn_net.add(LeakyReLU())\n",
    "    cnn_net.add(Dense(220, use_bias=False, activation='relu'))\n",
    "    cnn_net.add(Dense(1, activation='sigmoid'))\n",
    "    return cnn_net"
   ]
  },
  {
   "cell_type": "code",
   "execution_count": 78,
   "metadata": {},
   "outputs": [],
   "source": [
    "def discriminator_loss(logits_real, logits_fake):\n",
    "    loss = None\n",
    "    cross_entropy = tf.keras.losses.BinaryCrossentropy(from_logits=True)\n",
    "    real_loss = cross_entropy(tf.ones_like(logits_real), logits_real)\n",
    "    fake_loss = cross_entropy(tf.zeros_like(logits_fake), logits_fake)\n",
    "    loss = real_loss + fake_loss\n",
    "    return loss\n",
    "\n",
    "def generator_loss(logits_fake):\n",
    "    loss = None\n",
    "    cross_entropy = tf.keras.losses.BinaryCrossentropy(from_logits=True)\n",
    "    loss = cross_entropy(tf.ones_like(logits_fake), logits_fake)\n",
    "    return loss"
   ]
  },
  {
   "cell_type": "code",
   "execution_count": 79,
   "metadata": {},
   "outputs": [],
   "source": [
    "D_solver = tf.optimizers.Adam(1e-3, 0.5)\n",
    "G_solver = tf.optimizers.Adam(1e-3, 0.5)\n",
    "EPOCHS = 20\n",
    "batch_size = 5\n",
    "gen_model = make_generator_model(4,1,12)\n",
    "disc_model = make_discriminator_model()"
   ]
  },
  {
   "cell_type": "code",
   "execution_count": 80,
   "metadata": {},
   "outputs": [],
   "source": [
    "train_dataset = tf.data.Dataset.from_tensor_slices((X_train, y_train, yc_train))\n",
    "train_dataset = train_dataset.batch(batch_size)"
   ]
  },
  {
   "cell_type": "code",
   "execution_count": 81,
   "metadata": {},
   "outputs": [
    {
     "name": "stdout",
     "output_type": "stream",
     "text": [
      "\n",
      "Start of epoch 0\n"
     ]
    },
    {
     "name": "stderr",
     "output_type": "stream",
     "text": [
      "c:\\ProgramData\\Anaconda3\\lib\\site-packages\\tensorflow\\python\\util\\dispatch.py:1082: UserWarning: \"`binary_crossentropy` received `from_logits=True`, but the `output` argument was produced by a sigmoid or softmax activation and thus does not represent logits. Was this intended?\"\n",
      "  return dispatch_target(*args, **kwargs)\n"
     ]
    },
    {
     "name": "stdout",
     "output_type": "stream",
     "text": [
      "\n",
      "Start of epoch 1\n",
      "\n",
      "Start of epoch 2\n",
      "\n",
      "Start of epoch 3\n",
      "\n",
      "Start of epoch 4\n",
      "\n",
      "Start of epoch 5\n",
      "\n",
      "Start of epoch 6\n",
      "\n",
      "Start of epoch 7\n",
      "\n",
      "Start of epoch 8\n",
      "\n",
      "Start of epoch 9\n",
      "\n",
      "Start of epoch 10\n",
      "\n",
      "Start of epoch 11\n",
      "\n",
      "Start of epoch 12\n",
      "\n",
      "Start of epoch 13\n",
      "\n",
      "Start of epoch 14\n",
      "\n",
      "Start of epoch 15\n",
      "\n",
      "Start of epoch 16\n",
      "\n",
      "Start of epoch 17\n",
      "\n",
      "Start of epoch 18\n",
      "\n",
      "Start of epoch 19\n"
     ]
    }
   ],
   "source": [
    "genloss = np.empty([1,])\n",
    "discloss = np.empty([1,])\n",
    "\n",
    "for epoch in range(EPOCHS):\n",
    "    print(\"\\nStart of epoch %d\" % (epoch,))\n",
    "    for step, (x_batch_train, y_batch_train, yc_batch_train) in enumerate(train_dataset):\n",
    "        with tf.GradientTape() as gen_tape:\n",
    "            generated_data = tf.cast(gen_model(x_batch_train, training=True), tf.float64)\n",
    "            d_fake_input = tf.reshape(tf.concat([yc_batch_train, tf.reshape(generated_data, [-1, 1])], 1), [-1,4,1])\n",
    "            fake_output = disc_model(d_fake_input, training=True)\n",
    "            gen_loss = generator_loss(fake_output)\n",
    "            gen_grads = gen_tape.gradient(gen_loss, gen_model.trainable_weights)\n",
    "            G_solver.apply_gradients(zip(gen_grads, gen_model.trainable_weights))\n",
    "           \n",
    "        with tf.GradientTape() as disc_tape:\n",
    "            generated_data = tf.cast(gen_model(x_batch_train, training=True), tf.float64)\n",
    "            d_fake_input = tf.reshape(tf.concat([yc_batch_train, tf.reshape(generated_data, [-1, 1])], 1), [-1,4,1])\n",
    "            d_real_input = tf.reshape(tf.concat([yc_batch_train, tf.reshape(y_batch_train, [-1, 1])], 1), [-1,4,1])\n",
    "            fake_output = disc_model(d_fake_input, training=True)\n",
    "            real_output = disc_model(d_real_input, training=True)\n",
    "            disc_loss = discriminator_loss(real_output, fake_output)\n",
    "            disc_grads = disc_tape.gradient(disc_loss, disc_model.trainable_weights)\n",
    "            D_solver.apply_gradients(zip(disc_grads, disc_model.trainable_weights))\n",
    "\n",
    "        genloss = np.append(genloss, np.array([gen_loss]))\n",
    "        discloss = np.append(discloss, np.array([disc_loss]))"
   ]
  },
  {
   "cell_type": "code",
   "execution_count": 82,
   "metadata": {},
   "outputs": [
    {
     "data": {
      "text/plain": [
       "[<matplotlib.lines.Line2D at 0x2508a7fdd90>]"
      ]
     },
     "execution_count": 82,
     "metadata": {},
     "output_type": "execute_result"
    },
    {
     "data": {
      "image/png": "[encoded data removed]",
      "text/plain": [
       "<Figure size 432x288 with 1 Axes>"
      ]
     },
     "metadata": {
      "needs_background": "light"
     },
     "output_type": "display_data"
    }
   ],
   "source": [
    "plt.plot(genloss)\n",
    "plt.plot(discloss)"
   ]
  },
  {
   "cell_type": "code",
   "execution_count": 83,
   "metadata": {},
   "outputs": [
    {
     "name": "stdout",
     "output_type": "stream",
     "text": [
      "2/2 [==============================] - 1s 4ms/step\n"
     ]
    },
    {
     "data": {
      "text/plain": [
       "[<matplotlib.lines.Line2D at 0x250899dc1f0>]"
      ]
     },
     "execution_count": 83,
     "metadata": {},
     "output_type": "execute_result"
    },
    {
     "data": {
      "image/png": "[encoded data removed]",
      "text/plain": [
       "<Figure size 432x288 with 1 Axes>"
      ]
     },
     "metadata": {
      "needs_background": "light"
     },
     "output_type": "display_data"
    }
   ],
   "source": [
    "predicted_data = gen_model.predict(X_test)\n",
    "plt.plot(predicted_data)\n",
    "plt.plot(y_test)"
   ]
  }
 ],
 "metadata": {
  "interpreter": {
   "hash": "ad2bdc8ecc057115af97d19610ffacc2b4e99fae6737bb82f5d7fb13d2f2c186"
  },
  "kernelspec": {
   "display_name": "Python 3.9.7 ('base')",
   "language": "python",
   "name": "python3"
  },
  "language_info": {
   "codemirror_mode": {
    "name": "ipython",
    "version": 3
   },
   "file_extension": ".py",
   "mimetype": "text/x-python",
   "name": "python",
   "nbconvert_exporter": "python",
   "pygments_lexer": "ipython3",
   "version": "3.9.12"
  },
  "orig_nbformat": 4
 },
 "nbformat": 4,
 "nbformat_minor": 2
}
