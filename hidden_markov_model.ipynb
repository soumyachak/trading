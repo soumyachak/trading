{
 "cells": [
  {
   "cell_type": "code",
   "execution_count": 87,
   "metadata": {},
   "outputs": [],
   "source": [
    "import pandas as pd\n",
    "import numpy as np\n",
    "import matplotlib.pyplot as plt\n",
    "import warnings\n",
    "import logging\n",
    "import itertools\n",
    "import pandas as pd\n",
    "import numpy as np\n",
    "import matplotlib.pyplot as plt\n",
    "from hmmlearn.hmm import GaussianHMM\n",
    "from sklearn.model_selection import train_test_split\n",
    "from tqdm import tqdm\n",
    "from sklearn import preprocessing"
   ]
  },
  {
   "cell_type": "code",
   "execution_count": 88,
   "metadata": {},
   "outputs": [
    {
     "data": {
      "text/html": [
       "<div>\n",
       "<style scoped>\n",
       "    .dataframe tbody tr th:only-of-type {\n",
       "        vertical-align: middle;\n",
       "    }\n",
       "\n",
       "    .dataframe tbody tr th {\n",
       "        vertical-align: top;\n",
       "    }\n",
       "\n",
       "    .dataframe thead th {\n",
       "        text-align: right;\n",
       "    }\n",
       "</style>\n",
       "<table border=\"1\" class=\"dataframe\">\n",
       "  <thead>\n",
       "    <tr style=\"text-align: right;\">\n",
       "      <th></th>\n",
       "      <th>Date</th>\n",
       "      <th>Open</th>\n",
       "      <th>High</th>\n",
       "      <th>Low</th>\n",
       "      <th>Close</th>\n",
       "    </tr>\n",
       "  </thead>\n",
       "  <tbody>\n",
       "    <tr>\n",
       "      <th>0</th>\n",
       "      <td>2021-04-27</td>\n",
       "      <td>14493.80</td>\n",
       "      <td>14667.55</td>\n",
       "      <td>14484.85</td>\n",
       "      <td>14653.05</td>\n",
       "    </tr>\n",
       "    <tr>\n",
       "      <th>1</th>\n",
       "      <td>2021-04-28</td>\n",
       "      <td>14710.50</td>\n",
       "      <td>14890.25</td>\n",
       "      <td>14694.95</td>\n",
       "      <td>14864.55</td>\n",
       "    </tr>\n",
       "    <tr>\n",
       "      <th>2</th>\n",
       "      <td>2021-04-29</td>\n",
       "      <td>14979.00</td>\n",
       "      <td>15044.35</td>\n",
       "      <td>14814.45</td>\n",
       "      <td>14894.90</td>\n",
       "    </tr>\n",
       "    <tr>\n",
       "      <th>3</th>\n",
       "      <td>2021-04-30</td>\n",
       "      <td>14747.35</td>\n",
       "      <td>14855.45</td>\n",
       "      <td>14601.70</td>\n",
       "      <td>14631.10</td>\n",
       "    </tr>\n",
       "    <tr>\n",
       "      <th>4</th>\n",
       "      <td>2021-05-03</td>\n",
       "      <td>14481.05</td>\n",
       "      <td>14673.85</td>\n",
       "      <td>14416.25</td>\n",
       "      <td>14634.15</td>\n",
       "    </tr>\n",
       "  </tbody>\n",
       "</table>\n",
       "</div>"
      ],
      "text/plain": [
       "        Date      Open      High       Low     Close\n",
       "0 2021-04-27  14493.80  14667.55  14484.85  14653.05\n",
       "1 2021-04-28  14710.50  14890.25  14694.95  14864.55\n",
       "2 2021-04-29  14979.00  15044.35  14814.45  14894.90\n",
       "3 2021-04-30  14747.35  14855.45  14601.70  14631.10\n",
       "4 2021-05-03  14481.05  14673.85  14416.25  14634.15"
      ]
     },
     "execution_count": 88,
     "metadata": {},
     "output_type": "execute_result"
    }
   ],
   "source": [
    "df = pd.read_csv('data.csv', header=0, parse_dates=[0])\n",
    "df_cleaned = df.dropna().iloc[:,:-1]\n",
    "df_cleaned.head(5)"
   ]
  },
  {
   "cell_type": "code",
   "execution_count": 89,
   "metadata": {},
   "outputs": [],
   "source": [
    "# stock = df_cleaned.copy()\n",
    "# scaler = preprocessing.MinMaxScaler()\n",
    "# scaled_values = scaler.fit_transform(stock.iloc[:,1:])\n",
    "# stock.iloc[:,1:] = scaled_values\n",
    "\n",
    "# train_X,test_X = train_test_split(stock, test_size=0.33,shuffle=False)"
   ]
  },
  {
   "cell_type": "code",
   "execution_count": 90,
   "metadata": {},
   "outputs": [],
   "source": [
    "# hmm = GaussianHMM(n_components=4)\n",
    "# hmm.fit(train_X.iloc[:,1:])"
   ]
  },
  {
   "cell_type": "code",
   "execution_count": 91,
   "metadata": {},
   "outputs": [],
   "source": [
    "# frac_change_range = np.linspace(0, 1, 10)\n",
    "\n",
    "# possible_outcomes = np.array(list(itertools.product(frac_change_range, frac_change_range, frac_change_range, frac_change_range)))\n",
    "# possible_outcomes.shape"
   ]
  },
  {
   "cell_type": "code",
   "execution_count": 92,
   "metadata": {},
   "outputs": [],
   "source": [
    "# predicted_close_prices = []\n",
    "# days = 35\n",
    "# n_latency_days = 10\n",
    "\n",
    "# pred = []\n",
    "# actual = []\n",
    "# for day_index in tqdm(range(n_latency_days, days)):\n",
    "#     previous_data_start_index = max(0, day_index - n_latency_days)\n",
    "#     previous_data_end_index = max(0, day_index)\n",
    "#     previous_data = test_X.iloc[previous_data_start_index: previous_data_end_index,1:]\n",
    "#     outcome_score = []\n",
    "#     for possible_outcome in possible_outcomes:\n",
    "#         total_data = np.row_stack((previous_data, possible_outcome))\n",
    "#         outcome_score.append(hmm.score(total_data))\n",
    "#     print(total_data)\n",
    "\n",
    "#     most_probable_outcome = possible_outcomes[np.argmax(outcome_score)]\n",
    "#     pred.append([test_X.iloc[day_index,0]].append(scaler.inverse_transform(most_probable_outcome.reshape(1,-1))))\n",
    "#     actual.append([test_X.iloc[day_index,:]])"
   ]
  },
  {
   "cell_type": "code",
   "execution_count": 93,
   "metadata": {},
   "outputs": [],
   "source": [
    "class StockPredictor(object):\n",
    "    def __init__(self, test_size=0.33,\n",
    "                 n_hidden_states=4, n_latency_days=10,\n",
    "                 n_steps_frac_change=50, n_steps_frac_high=10,\n",
    "                 n_steps_frac_low=10):\n",
    " \n",
    "        self.n_latency_days = n_latency_days\n",
    " \n",
    "        self.hmm = GaussianHMM(n_components=n_hidden_states)\n",
    " \n",
    "        self._split_train_test_data(test_size)\n",
    " \n",
    "        self._compute_all_possible_outcomes(\n",
    "            n_steps_frac_change, n_steps_frac_high, n_steps_frac_low)\n",
    " \n",
    "    def _split_train_test_data(self, test_size):\n",
    "        data = df_cleaned\n",
    "        _train_data, test_data = train_test_split(\n",
    "            data, test_size=test_size, shuffle=False)\n",
    " \n",
    "        self._train_data = _train_data\n",
    "        self._test_data = test_data\n",
    "        self._test_data.reset_index(inplace = True)\n",
    "        self._test_data = self._test_data.drop(columns=['index'])\n",
    "\n",
    "    @staticmethod\n",
    "    def _extract_features(data):\n",
    "        open_price = np.array(data['Open'])\n",
    "        close_price = np.array(data['Close'])\n",
    "        high_price = np.array(data['High'])\n",
    "        low_price = np.array(data['Low'])\n",
    " \n",
    "        frac_change = (close_price - open_price) / open_price\n",
    "        frac_high = (high_price - open_price) / open_price\n",
    "        frac_low = (open_price - low_price) / open_price\n",
    " \n",
    "        return np.column_stack((frac_change, frac_high, frac_low))\n",
    " \n",
    "    def fit(self):\n",
    "        feature_vector = StockPredictor._extract_features(self._train_data)\n",
    "        self.hmm.fit(feature_vector)\n",
    " \n",
    "    def _compute_all_possible_outcomes(self, n_steps_frac_change,\n",
    "                                       n_steps_frac_high, n_steps_frac_low):\n",
    "        frac_change_range = np.linspace(-0.1, 0.1, n_steps_frac_change)\n",
    "        frac_high_range = np.linspace(0, 0.1, n_steps_frac_high)\n",
    "        frac_low_range = np.linspace(0, 0.1, n_steps_frac_low)\n",
    " \n",
    "        self._possible_outcomes = np.array(list(itertools.product(\n",
    "            frac_change_range, frac_high_range, frac_low_range)))\n",
    " \n",
    "    def _get_most_probable_outcome(self, day_index):\n",
    "        previous_data_start_index = max(0, day_index - self.n_latency_days)\n",
    "        previous_data_end_index = max(0, day_index)\n",
    "        previous_data = self._test_data.iloc[previous_data_start_index: previous_data_end_index,:]\n",
    "        previous_data_features = StockPredictor._extract_features(\n",
    "            previous_data)\n",
    " \n",
    "        outcome_score = []\n",
    "        for possible_outcome in self._possible_outcomes:\n",
    "            total_data = np.row_stack(\n",
    "                (previous_data_features, possible_outcome))\n",
    "            outcome_score.append(self.hmm.score(total_data))\n",
    "\n",
    "        most_probable_outcome = self._possible_outcomes[np.argmax(\n",
    "            outcome_score)]\n",
    "\n",
    "        return most_probable_outcome\n",
    "\n",
    "    def predict_close_price(self, day_index):\n",
    "        open_price = self._test_data.iloc[day_index]['Open']\n",
    "        predicted_frac_change, _, _ = self._get_most_probable_outcome(\n",
    "            day_index)\n",
    "        return open_price * (1 + predicted_frac_change)\n",
    " \n",
    "    def predict_close_prices_for_days(self, days, with_plot=False):\n",
    "        predicted_close_prices = []\n",
    "        for day_index in tqdm(range(days)):\n",
    "            predicted_close_prices.append(self.predict_close_price(day_index))\n",
    " \n",
    "        if with_plot:\n",
    "            test_data = self._test_data[0: days]\n",
    "            days = np.array(test_data['Date'], dtype=\"datetime64[ms]\")\n",
    "            actual_close_prices = test_data['Close']\n",
    " \n",
    "            fig = plt.figure()\n",
    " \n",
    "            axes = fig.add_subplot(111)\n",
    "            axes.plot(days, actual_close_prices, 'bo-', label=\"actual\")\n",
    "            axes.plot(days, predicted_close_prices, 'r+-', label=\"predicted\")\n",
    " \n",
    "            fig.autofmt_xdate()\n",
    " \n",
    "            plt.legend()\n",
    "            plt.show()"
   ]
  },
  {
   "cell_type": "code",
   "execution_count": 94,
   "metadata": {},
   "outputs": [
    {
     "name": "stderr",
     "output_type": "stream",
     "text": [
      "100%|██████████| 75/75 [01:44<00:00,  1.39s/it]\n"
     ]
    },
    {
     "data": {
      "image/png": "[encoded data removed]",
      "text/plain": [
       "<Figure size 432x288 with 1 Axes>"
      ]
     },
     "metadata": {
      "needs_background": "light"
     },
     "output_type": "display_data"
    }
   ],
   "source": [
    "stock_predictor = StockPredictor()\n",
    "stock_predictor.fit()\n",
    "stock_predictor.predict_close_prices_for_days(75, with_plot=True)"
   ]
  }
 ],
 "metadata": {
  "interpreter": {
   "hash": "ad2bdc8ecc057115af97d19610ffacc2b4e99fae6737bb82f5d7fb13d2f2c186"
  },
  "kernelspec": {
   "display_name": "Python 3.9.12 ('base')",
   "language": "python",
   "name": "python3"
  },
  "language_info": {
   "codemirror_mode": {
    "name": "ipython",
    "version": 3
   },
   "file_extension": ".py",
   "mimetype": "text/x-python",
   "name": "python",
   "nbconvert_exporter": "python",
   "pygments_lexer": "ipython3",
   "version": "3.9.12"
  },
  "orig_nbformat": 4
 },
 "nbformat": 4,
 "nbformat_minor": 2
}
